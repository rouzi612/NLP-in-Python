{
 "cells": [
  {
   "cell_type": "code",
   "execution_count": null,
   "id": "3b87697d",
   "metadata": {},
   "outputs": [],
   "source": [
    "def preProcess(s):\n",
    "    stemmer = PorterStemmer()\n",
    "    s = stemmer.stem(s) # stemming\n",
    "    s = ' '.join(word for word in s.split() if len(word)>4) # remove words length less than 4\n",
    "    return s"
   ]
  },
  {
   "cell_type": "code",
   "execution_count": null,
   "id": "20cd52c8",
   "metadata": {},
   "outputs": [],
   "source": [
    "vectorizer = TfidfVectorizer(stop_words = final_stopword_list, # this is a customized list\n",
    "                             preprocessor=preProcess, \n",
    "                             max_df = 0.8,\n",
    "                             min_df = 0.02, # the term must be in at least 20% of the document.\n",
    "                             ngram_range=(1,3)) # unigram to trigrams will be presented as features\n",
    "\n",
    "X = vectorizer.fit_transform(corpus1)\n",
    "feature_names = vectorizer.get_feature_names()\n",
    "print(feature_names)\n",
    "print(len(vectorizer.get_feature_names()))\n",
    "print(X.shape)"
   ]
  },
  {
   "cell_type": "code",
   "execution_count": null,
   "id": "d46a09fb",
   "metadata": {},
   "outputs": [],
   "source": [
    "svd = TruncatedSVD(60) # will include 60 major components\n",
    "normalizer = Normalizer(copy = False) # Normalize samples individually to unit norm.\n",
    "lsa = make_pipeline(svd, normalizer)\n",
    "X = lsa.fit_transform(X)\n",
    "print(svd.explained_variance_ratio_)\n",
    "print(svd.explained_variance_ratio_.sum())"
   ]
  },
  {
   "cell_type": "code",
   "execution_count": null,
   "id": "1d501bf1",
   "metadata": {},
   "outputs": [],
   "source": [
    "# print the model equation\n",
    "\" \".join([\n",
    "    \"%+0.3f*%s\" % (coef,feat)\n",
    "    for coef, feat in zip(svd.components_[0],feature_names)\n",
    "])"
   ]
  },
  {
   "cell_type": "code",
   "execution_count": null,
   "id": "3a901545",
   "metadata": {},
   "outputs": [],
   "source": [
    "#print the top 10 features\n",
    "best_features = [feature_names[i] for i in svd.components_[0].argsort()[::-1]]\n",
    "best_features[:10]"
   ]
  },
  {
   "cell_type": "code",
   "execution_count": null,
   "id": "e29ddd92",
   "metadata": {},
   "outputs": [],
   "source": [
    "true_k = 4 # you can try different k\n",
    "model = KMeans(n_clusters=true_k, init='k-means++', max_iter=100, n_init=1, random_state = 1234)\n",
    "model.fit(X)"
   ]
  },
  {
   "cell_type": "code",
   "execution_count": null,
   "id": "c7e5f1d9",
   "metadata": {},
   "outputs": [],
   "source": [
    "# print the top terms per cluster\n",
    "print(\"Top terms per cluster:\")\n",
    "order_centroids = model.cluster_centers_.argsort()[:, ::-1]\n",
    "\n",
    "for i in range(true_k):\n",
    "    print(\"Cluster %d:\" % i),\n",
    "    for ind in order_centroids[i, :10]:\n",
    "        print(' %s' % feature_names[ind]),\n",
    "    print\n",
    "\n",
    "print(\"\\n\")\n",
    "print(model.inertia_)"
   ]
  },
  {
   "cell_type": "code",
   "execution_count": null,
   "id": "0a1c1726",
   "metadata": {},
   "outputs": [],
   "source": [
    "# print the count per cluster\n",
    "labels = model.predict(X)\n",
    "freq =Counter(labels)\n",
    "freq"
   ]
  }
 ],
 "metadata": {
  "kernelspec": {
   "display_name": "Python 3",
   "language": "python",
   "name": "python3"
  },
  "language_info": {
   "codemirror_mode": {
    "name": "ipython",
    "version": 3
   },
   "file_extension": ".py",
   "mimetype": "text/x-python",
   "name": "python",
   "nbconvert_exporter": "python",
   "pygments_lexer": "ipython3",
   "version": "3.6.4"
  }
 },
 "nbformat": 4,
 "nbformat_minor": 5
}
