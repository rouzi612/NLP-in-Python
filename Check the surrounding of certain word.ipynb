{
 "cells": [
  {
   "cell_type": "code",
   "execution_count": null,
   "id": "bc5cbe81",
   "metadata": {},
   "outputs": [],
   "source": [
    "# Check the surrounding words start with the string\n",
    "vectorizer2 = CountVectorizer(analyzer='word', ngram_range=(2, 2))\n",
    "X2 = vectorizer2.fit_transform(corpus1)\n",
    "bi_grams = vectorizer2.get_feature_names()\n",
    "r = re.compile(\"growth\")\n",
    "newlist = list(filter(r.match, bi_grams)) \n",
    "print(newlist)\n"
   ]
  },
  {
   "cell_type": "code",
   "execution_count": null,
   "id": "419b5b50",
   "metadata": {},
   "outputs": [],
   "source": [
    "# Checking surrounding words end with the string\n",
    "newlist = []\n",
    "for b in bi_grams:\n",
    "    if b.endswith('decision'):\n",
    "        newlist.append(b)\n",
    "        \n",
    "print(newlist)"
   ]
  },
  {
   "cell_type": "code",
   "execution_count": null,
   "id": "24347bb9",
   "metadata": {},
   "outputs": [],
   "source": [
    "# Search the original document containing the word (string)\n",
    "pd.set_option('display.max_colwidth', None)\n",
    "filter_values =  corpus1[corpus1.str.contains('growth')==True] # for example, I want to search the comment containing \"growth\" this word\n",
    "print(filter_values)\n",
    "print(len(filter_values))"
   ]
  },
  {
   "cell_type": "code",
   "execution_count": null,
   "id": "dd1ec835",
   "metadata": {},
   "outputs": [],
   "source": []
  }
 ],
 "metadata": {
  "kernelspec": {
   "display_name": "Python 3",
   "language": "python",
   "name": "python3"
  },
  "language_info": {
   "codemirror_mode": {
    "name": "ipython",
    "version": 3
   },
   "file_extension": ".py",
   "mimetype": "text/x-python",
   "name": "python",
   "nbconvert_exporter": "python",
   "pygments_lexer": "ipython3",
   "version": "3.6.4"
  }
 },
 "nbformat": 4,
 "nbformat_minor": 5
}
