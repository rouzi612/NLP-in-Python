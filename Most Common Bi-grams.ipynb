{
 "cells": [
  {
   "cell_type": "code",
   "execution_count": null,
   "id": "51705b32",
   "metadata": {},
   "outputs": [],
   "source": [
    "from collections import Counter\n",
    "from nltk import word_tokenize \n",
    "from nltk.util import ngrams\n",
    "from nltk.stem import WordNetLemmatizer\n",
    "from nltk.corpus import stopwords\n",
    "\n",
    "\n",
    "docs =[doc for doc in corpus11]\n",
    "docs = (' '.join(filter(None, docs))).lower()\n",
    "\n",
    "tokens = word_tokenize(docs)\n",
    "tokens = [t for t in tokens if t not in final_stopword_list]\n",
    "word_l = WordNetLemmatizer()\n",
    "tokens = [word_l.lemmatize(t) for t in tokens if t.isalpha()]\n",
    "word_s = PorterStemmer()\n",
    "tokens = [word_s.stem(t) for t in tokens if t.isalpha()]\n",
    "\n",
    "bi_grams = list(ngrams(tokens, 2)) \n",
    "counter = Counter(bi_grams)\n",
    "counter.most_common(20)"
   ]
  }
 ],
 "metadata": {
  "kernelspec": {
   "display_name": "Python 3",
   "language": "python",
   "name": "python3"
  },
  "language_info": {
   "codemirror_mode": {
    "name": "ipython",
    "version": 3
   },
   "file_extension": ".py",
   "mimetype": "text/x-python",
   "name": "python",
   "nbconvert_exporter": "python",
   "pygments_lexer": "ipython3",
   "version": "3.6.4"
  }
 },
 "nbformat": 4,
 "nbformat_minor": 5
}
