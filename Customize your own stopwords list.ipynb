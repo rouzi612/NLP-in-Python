{
 "cells": [
  {
   "cell_type": "code",
   "execution_count": null,
   "id": "50f83faf",
   "metadata": {},
   "outputs": [],
   "source": [
    "NLTK_stop_words_list=stopwords.words('english')\n",
    "print(NLTK_stop_words_list)\n",
    "print(\"Total numbers of stop words are \")\n",
    "print(len(NLTK_stop_words_list))\n",
    "\n",
    "custom_stop_word_list = ['zurich','zna','would','america','north',\n",
    "                         'thing','company','exciting','could',\n",
    "                         'work','manager', 'also','support', 'supports'\n",
    "                         'name','executive', 'nothing', 'cannot',\n",
    "                        'done','anything', 'things','think', 'time',\n",
    "                        'takes','take','everything', 'makes','make', \n",
    "                         'regard', 'really','comes','others','great',\n",
    "                        'good', 'employees','appreciate','moment','point',\n",
    "                        '(--)','her','his','my','their','that','this']\n",
    "\n",
    "final_stopword_list = custom_stop_word_list + NLTK_stop_words_list\n",
    "\n",
    "print(len(final_stopword_list))\n"
   ]
  }
 ],
 "metadata": {
  "kernelspec": {
   "display_name": "Python 3",
   "language": "python",
   "name": "python3"
  },
  "language_info": {
   "codemirror_mode": {
    "name": "ipython",
    "version": 3
   },
   "file_extension": ".py",
   "mimetype": "text/x-python",
   "name": "python",
   "nbconvert_exporter": "python",
   "pygments_lexer": "ipython3",
   "version": "3.6.4"
  }
 },
 "nbformat": 4,
 "nbformat_minor": 5
}
