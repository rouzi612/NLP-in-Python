{
 "cells": [
  {
   "cell_type": "code",
   "execution_count": null,
   "id": "bb1ebdc1",
   "metadata": {},
   "outputs": [],
   "source": [
    "from wordcloud import WordCloud\n",
    "%matplotlib inline\n",
    "import matplotlib.pyplot as plt\n",
    "\n",
    "\n",
    "docs =[doc for doc in corpus] # text input\n",
    "docs = (' '.join(filter(None, docs))).lower()\n",
    "\n",
    "tokens = word_tokenize(docs)\n",
    "tokens = [t for t in tokens if t not in final_stopword_list]\n",
    "word_l = WordNetLemmatizer()\n",
    "tokens = [word_l.lemmatize(t) for t in tokens if t.isalpha()]\n",
    "word_s = PorterStemmer()\n",
    "tokens = [word_s.stem(t) for t in tokens if t.isalpha()]\n",
    "\n",
    "n_grams = list(ngrams(tokens, 3)) # tri- gram = 3, bi-gram = 2\n",
    "counter = Counter(n_grams)\n",
    "common_ngrams = counter.most_common(20)\n",
    "common_bigrams"
   ]
  },
  {
   "cell_type": "code",
   "execution_count": null,
   "id": "0614495e",
   "metadata": {},
   "outputs": [],
   "source": [
    "pairs = []\n",
    "for pair in common_ngrams:\n",
    "    pairs.append(pair[0])\n",
    "print(pairs)"
   ]
  },
  {
   "cell_type": "code",
   "execution_count": null,
   "id": "e500579f",
   "metadata": {},
   "outputs": [],
   "source": [
    "for i in range(0,len(pairs)):\n",
    "    pairs[i] = \" \".join(pairs[i])"
   ]
  },
  {
   "cell_type": "code",
   "execution_count": null,
   "id": "b053abb3",
   "metadata": {},
   "outputs": [],
   "source": [
    "pairs_freq = nltk.FreqDist(pairs)"
   ]
  },
  {
   "cell_type": "code",
   "execution_count": null,
   "id": "dc75dcb0",
   "metadata": {},
   "outputs": [],
   "source": [
    "ngram_wordcloud = WordCloud(width=480, height=480, background_color="skyblue", random_state = 21, colormap='tab20c').generate_from_frequencies(pairs_freq)# change the color code here if you want\n",
    "plt.figure(figsize = (9,8))\n",
    "plt.imshow(ngram_wordcloud,interpolation = 'bilinear')\n",
    "plt.axis(\"off\")\n",
    "plt.show()"
   ]
  }
 ],
 "metadata": {
  "kernelspec": {
   "display_name": "Python 3",
   "language": "python",
   "name": "python3"
  },
  "language_info": {
   "codemirror_mode": {
    "name": "ipython",
    "version": 3
   },
   "file_extension": ".py",
   "mimetype": "text/x-python",
   "name": "python",
   "nbconvert_exporter": "python",
   "pygments_lexer": "ipython3",
   "version": "3.6.4"
  }
 },
 "nbformat": 4,
 "nbformat_minor": 5
}
