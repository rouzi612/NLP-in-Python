{
 "cells": [
  {
   "cell_type": "markdown",
   "id": "1d306f7b",
   "metadata": {},
   "source": [
    "# Manager Survey Analysis"
   ]
  },
  {
   "cell_type": "markdown",
   "id": "ed2868d4",
   "metadata": {},
   "source": [
    "**Objectives**:\n",
    "<br> 1. Discover the areas where managers are excel at -- What does your manager excel at with regard to supporting your development?\n",
    "<br> 2. Discover the areas of improvement - \"What would you tell your manager to do differently so that you are more likely to recommend them as a manager?\"\n",
    "<br> 3. NPS comments on managers - why employee rated manager with a detracter score, passive score, or promoter score"
   ]
  },
  {
   "cell_type": "code",
   "execution_count": 236,
   "id": "942b52c6",
   "metadata": {},
   "outputs": [
    {
     "name": "stderr",
     "output_type": "stream",
     "text": [
      "[nltk_data] Downloading package stopwords to\n",
      "[nltk_data]     C:\\Users\\rouzi.bai\\AppData\\Roaming\\nltk_data...\n",
      "[nltk_data]   Package stopwords is already up-to-date!\n",
      "[nltk_data] Downloading package wordnet to\n",
      "[nltk_data]     C:\\Users\\rouzi.bai\\AppData\\Roaming\\nltk_data...\n",
      "[nltk_data]   Package wordnet is already up-to-date!\n"
     ]
    }
   ],
   "source": [
    "import pandas as pd\n",
    "import matplotlib.pyplot as plt\n",
    "import numpy as np\n",
    "import os\n",
    "import re\n",
    "import nltk\n",
    "import string\n",
    "import seaborn as sns\n",
    "from wordcloud import WordCloud, STOPWORDS\n",
    "\n",
    "#Convert a collection of raw documents to a matrix of TF-IDF features.\n",
    "from sklearn.feature_extraction.text import TfidfVectorizer\n",
    "from sklearn.feature_extraction.text import CountVectorizer\n",
    "\n",
    "from sklearn.cluster import KMeans\n",
    "from sklearn.decomposition import TruncatedSVD\n",
    "from scipy.sparse import random as sparse_random\n",
    "\n",
    "nltk.download('stopwords')\n",
    "nltk.download('wordnet')\n",
    "from nltk.corpus import stopwords\n",
    "from nltk.stem import PorterStemmer\n",
    "from nltk.stem import WordNetLemmatizer\n",
    "\n",
    "from nltk.tokenize import TweetTokenizer\n",
    "from collections import Counter\n",
    "from nltk.tokenize import word_tokenize\n",
    "from sklearn.preprocessing import Normalizer\n",
    "from sklearn.pipeline import make_pipeline\n",
    "from sklearn.metrics import r2_score\n",
    "from sklearn.metrics import mean_squared_error\n",
    "from sklearn.model_selection import train_test_split\n",
    "from sklearn.linear_model import LinearRegression\n",
    "from sklearn import metrics\n",
    "\n",
    "from nltk.util import ngrams"
   ]
  },
  {
   "cell_type": "code",
   "execution_count": 237,
   "id": "e1b792a9",
   "metadata": {},
   "outputs": [],
   "source": [
    "os.chdir(\"G:\\HRIS\\Bai\\Manager Effectiveness Survey\")"
   ]
  },
  {
   "cell_type": "code",
   "execution_count": 238,
   "id": "d7dce6e5",
   "metadata": {},
   "outputs": [
    {
     "name": "stdout",
     "output_type": "stream",
     "text": [
      "Current Working Directory  G:\\HRIS\\Bai\\Manager Effectiveness Survey\n"
     ]
    }
   ],
   "source": [
    "print(\"Current Working Directory \" , os.getcwd())"
   ]
  },
  {
   "cell_type": "code",
   "execution_count": 535,
   "id": "b6122734",
   "metadata": {},
   "outputs": [],
   "source": [
    "# import data files\n",
    "\n",
    "survey = pd.read_csv('Final831.csv')\n",
    "eelist = pd.read_csv('survey respondents info.csv')"
   ]
  },
  {
   "cell_type": "code",
   "execution_count": 536,
   "id": "c30b0a5e",
   "metadata": {},
   "outputs": [
    {
     "data": {
      "text/plain": [
       "(6792, 31)"
      ]
     },
     "execution_count": 536,
     "metadata": {},
     "output_type": "execute_result"
    }
   ],
   "source": [
    "# merge survey info with respondents info based on employee ID\n",
    "\n",
    "survey = survey.merge(eelist, left_on = 'Employee ID', right_on = 'Employee ID', how = 'left')\n",
    "\n",
    "# check the dimension of the data\n",
    "survey.shape"
   ]
  },
  {
   "cell_type": "code",
   "execution_count": 605,
   "id": "44c3f955",
   "metadata": {},
   "outputs": [
    {
     "data": {
      "text/plain": [
       "My manager and I have meaningful discussions about my career aspirations.                                                       0\n",
       "My manager helps me identify and prioritize my development needs for current and future roles.                                  0\n",
       "My manager takes actions to support my development.                                                                             0\n",
       "My manager and I discuss progress on my development goals throughout the year.                                                  0\n",
       "I believe my manager’s actions have helped prepare me for future opportunities and challenges.                                  0\n",
       "What does your manager excel at with regard to supporting your development?                                                     0\n",
       "What could your manager do differently to better support your development?                                                    233\n",
       "I believe my manager and I have a trusting relationship.                                                                        0\n",
       "I believe my manager consistently follows through on commitments.                                                               0\n",
       "Is there additional feedback you want to share with your manager?                                                             110\n",
       "MNPS                                                                                                                            0\n",
       "What would you tell your manager to do differently so that you are more likely to recommend them as a manager? - Detractor      2\n",
       "What would you tell your manager to do differently so that you are more likely to recommend them as a manager? - Passive       13\n",
       "What behaviors does your manager demonstrate that inspire you to recommend them to your colleagues?-Promotor                    3\n",
       "Business Segment                                                                                                                0\n",
       "Major Unit                                                                                                                      0\n",
       "Employee ID                                                                                                                     0\n",
       "Manager ID                                                                                                                      0\n",
       "Manager Tenure                                                                                                                  0\n",
       "Manager Tenure Category                                                                                                         0\n",
       "Manager Type                                                                                                                    0\n",
       "ManagerPM                                                                                                                       0\n",
       "ManagerPM Category                                                                                                              0\n",
       "Manager SoC                                                                                                                     0\n",
       "Manager Career Level                                                                                                           14\n",
       "Manager Reward Level                                                                                                            0\n",
       "eePM                                                                                                                            0\n",
       "eePM Category                                                                                                                 370\n",
       "Team Performance                                                                                                                0\n",
       "avg_score                                                                                                                       0\n",
       "text1_length                                                                                                                    0\n",
       "dtype: int64"
      ]
     },
     "execution_count": 605,
     "metadata": {},
     "output_type": "execute_result"
    }
   ],
   "source": [
    "#check the number of missing values in each column\n",
    "survey.isnull().sum()"
   ]
  },
  {
   "cell_type": "code",
   "execution_count": 538,
   "id": "518d74a3",
   "metadata": {},
   "outputs": [
    {
     "data": {
      "text/plain": [
       "My manager and I have meaningful discussions about my career aspirations.                                                                       object\n",
       "My manager helps me identify and prioritize my development needs for current and future roles.                                                  object\n",
       "My manager takes actions to support my development.                                                                                             object\n",
       "My manager and I discuss progress on my development goals throughout the year.                                                                  object\n",
       "I believe my manager’s actions have helped prepare me for future opportunities and challenges.                                                  object\n",
       "What does your manager excel at with regard to supporting your development?                                                                     object\n",
       "What could your manager do differently to better support your development?                                                                      object\n",
       "I believe my manager and I have a trusting relationship.                                                                                        object\n",
       "I believe my manager consistently follows through on commitments.                                                                               object\n",
       "Is there additional feedback you want to share with your manager?                                                                               object\n",
       "Manager Net Promoter Score (mNPS) - On a scale from zero to ten, how likely would you be to recommend your immediate manager to colleagues?     object\n",
       "What would you tell your manager to do differently so that you are more likely to recommend them as a manager? - Detractor                      object\n",
       "What would you tell your manager to do differently so that you are more likely to recommend them as a manager? - Passive                        object\n",
       "What behaviors does your manager demonstrate that inspire you to recommend them to your colleagues?-Promotor                                    object\n",
       "Business Segment                                                                                                                                object\n",
       "Major Unit                                                                                                                                      object\n",
       "# Times Completed                                                                                                                                int64\n",
       "Timestamp                                                                                                                                       object\n",
       "Ref.ID                                                                                                                                           int64\n",
       "Employee ID                                                                                                                                      int64\n",
       "Manager ID                                                                                                                                     float64\n",
       "Manager Tenure                                                                                                                                 float64\n",
       "Manager Tenure Category                                                                                                                         object\n",
       "Manager Type                                                                                                                                    object\n",
       "ManagerPM                                                                                                                                       object\n",
       "ManagerPM Category                                                                                                                              object\n",
       "Manager SoC                                                                                                                                    float64\n",
       "Manager Career Level                                                                                                                            object\n",
       "Manager Reward Level                                                                                                                            object\n",
       "eePM                                                                                                                                            object\n",
       "eePM Category                                                                                                                                   object\n",
       "dtype: object"
      ]
     },
     "execution_count": 538,
     "metadata": {},
     "output_type": "execute_result"
    }
   ],
   "source": [
    "survey.dtypes"
   ]
  },
  {
   "cell_type": "code",
   "execution_count": 539,
   "id": "2852fc37",
   "metadata": {},
   "outputs": [],
   "source": [
    "# drop unused columns\n",
    "survey = survey.drop(['# Times Completed', 'Timestamp','Ref.ID'], axis=1)"
   ]
  },
  {
   "cell_type": "code",
   "execution_count": 540,
   "id": "44e25d6a",
   "metadata": {},
   "outputs": [],
   "source": [
    "# remove survey records when manager is no identified\n",
    "\n",
    "survey = survey[~np.isnan(survey['Manager ID'])]"
   ]
  },
  {
   "cell_type": "code",
   "execution_count": 541,
   "id": "cd8e80a7",
   "metadata": {},
   "outputs": [],
   "source": [
    "# check data type of each columns\n",
    "\n",
    "survey['Manager SoC']=survey['Manager SoC'].astype(pd.Int64Dtype())\n",
    "survey['Manager ID']=survey['Manager ID'].astype(pd.Int64Dtype())\n",
    "survey['Manager Tenure'] = survey['Manager Tenure'].apply(np.floor).astype(pd.Int64Dtype())\n"
   ]
  },
  {
   "cell_type": "code",
   "execution_count": 542,
   "id": "b56dae73",
   "metadata": {},
   "outputs": [],
   "source": [
    "survey.rename({'Manager Net Promoter Score (mNPS) - On a scale from zero to ten, how likely would you be to recommend your immediate manager to colleagues?':'MNPS'}, axis = 'columns', inplace = True) \n",
    "survey['MNPS'] = pd.to_numeric(survey['MNPS'],errors='coerce')\n",
    "\n",
    "# remove records that don't have MNPS\n",
    "\n",
    "survey = survey[survey['MNPS'] !=0]\n"
   ]
  },
  {
   "cell_type": "code",
   "execution_count": 543,
   "id": "66d43ca1",
   "metadata": {},
   "outputs": [],
   "source": [
    "# Recode PM if PM is missing, then put the average of PM instead\n",
    "def my_recode(var):\n",
    "    if var == 'Partially Met-Low':\n",
    "        return 1\n",
    "    if var == 'Partially Met-Medium':\n",
    "        return 2\n",
    "    if var == 'Partially Met-High':\n",
    "        return 3\n",
    "    if var == 'Fully Met-Low':\n",
    "        return 4\n",
    "    if var == 'Fully Met-Medium':\n",
    "        return 5\n",
    "    if var =='Fully Met-High':\n",
    "        return 6\n",
    "    if var =='Exceeded-Low':\n",
    "        return 7\n",
    "    if var == 'Exceeded-Medium':\n",
    "        return 8\n",
    "    if var == 'Exceeded-High':\n",
    "        return 9\n",
    "    else:\n",
    "        return 5"
   ]
  },
  {
   "cell_type": "code",
   "execution_count": 544,
   "id": "3a7e7568",
   "metadata": {},
   "outputs": [],
   "source": [
    "# recode PM ratings\n",
    "survey['ManagerPM']= survey['ManagerPM'].apply(my_recode)\n",
    "survey['eePM']= survey['eePM'].apply(my_recode)"
   ]
  },
  {
   "cell_type": "code",
   "execution_count": 546,
   "id": "4887dc03",
   "metadata": {},
   "outputs": [],
   "source": [
    "def my_recode3(var):\n",
    "    if var == '10M':\n",
    "        return 10\n",
    "    if var == '4M':\n",
    "        return 4\n",
    "    if var == '5M':\n",
    "        return 5\n",
    "    if var == '6M':\n",
    "        return 6\n",
    "    if var == '7M':\n",
    "        return 7\n",
    "    if var == '8M':\n",
    "        return 8\n",
    "    if var == '9M':\n",
    "        return 9\n",
    "    if var == 'UM':\n",
    "        return 3\n",
    "    else:\n",
    "        return 11"
   ]
  },
  {
   "cell_type": "code",
   "execution_count": 547,
   "id": "59f9af9d",
   "metadata": {},
   "outputs": [],
   "source": [
    "survey = survey[~np.isnan(survey['Manager Reward Level'])]\n",
    "survey['Manager Reward Level'] = survey['Manager Reward Level'].astype(str)"
   ]
  },
  {
   "cell_type": "code",
   "execution_count": 548,
   "id": "4d708ad9",
   "metadata": {},
   "outputs": [],
   "source": [
    "survey['Manager Reward Level'] = survey['Manager Reward Level'].apply(my_recode3)"
   ]
  },
  {
   "cell_type": "code",
   "execution_count": 550,
   "id": "8c55f9aa",
   "metadata": {},
   "outputs": [],
   "source": [
    "#recode manager type: direct manager = 1, MoM = 2\n",
    "survey['Manager Type'] = np.where(survey['Manager Type'] == 'Direct Manager',1,2)"
   ]
  },
  {
   "cell_type": "code",
   "execution_count": 551,
   "id": "42ac3784",
   "metadata": {},
   "outputs": [],
   "source": [
    "# Team performance is calculated by averaging the employee PM per manager\n",
    "survey['Team Performance'] = survey.groupby('Manager ID').eePM.transform('mean')"
   ]
  },
  {
   "cell_type": "code",
   "execution_count": 552,
   "id": "9f63f8d8",
   "metadata": {},
   "outputs": [
    {
     "data": {
      "text/plain": [
       "count    6430.000000\n",
       "mean        8.985070\n",
       "std         0.952168\n",
       "min         1.000000\n",
       "25%         8.600000\n",
       "50%         9.250000\n",
       "75%         9.666667\n",
       "max        10.000000\n",
       "Name: avg_score, dtype: float64"
      ]
     },
     "execution_count": 552,
     "metadata": {},
     "output_type": "execute_result"
    }
   ],
   "source": [
    "# Manager score is calculated by averaging employees' MNPS per manager\n",
    "survey['avg_score'] = survey.groupby('Manager ID').MNPS.transform('mean')\n",
    "survey['avg_score'].describe()"
   ]
  },
  {
   "cell_type": "code",
   "execution_count": 553,
   "id": "505dcbe6",
   "metadata": {},
   "outputs": [
    {
     "data": {
      "text/plain": [
       "(6430, 30)"
      ]
     },
     "execution_count": 553,
     "metadata": {},
     "output_type": "execute_result"
    }
   ],
   "source": [
    "survey.shape"
   ]
  },
  {
   "cell_type": "code",
   "execution_count": 649,
   "id": "a155a70f",
   "metadata": {},
   "outputs": [],
   "source": [
    "# check missing values of each variable\n",
    "data = survey[['Manager ID','Manager Tenure','Manager SoC','ManagerPM','Manager Type','Manager Reward Level','Team Performance','High Performance Team','avg_score']]"
   ]
  },
  {
   "cell_type": "code",
   "execution_count": 650,
   "id": "b03acc9c",
   "metadata": {},
   "outputs": [],
   "source": [
    "data = data.drop_duplicates(subset = 'Manager ID', keep = 'first')"
   ]
  },
  {
   "cell_type": "code",
   "execution_count": 651,
   "id": "7e7120f9",
   "metadata": {},
   "outputs": [],
   "source": [
    "data = data.drop(['Manager ID'], axis = 1)"
   ]
  },
  {
   "cell_type": "code",
   "execution_count": 707,
   "id": "40f3d2ef",
   "metadata": {},
   "outputs": [
    {
     "data": {
      "text/html": [
       "<div>\n",
       "<style scoped>\n",
       "    .dataframe tbody tr th:only-of-type {\n",
       "        vertical-align: middle;\n",
       "    }\n",
       "\n",
       "    .dataframe tbody tr th {\n",
       "        vertical-align: top;\n",
       "    }\n",
       "\n",
       "    .dataframe thead th {\n",
       "        text-align: right;\n",
       "    }\n",
       "</style>\n",
       "<table border=\"1\" class=\"dataframe\">\n",
       "  <thead>\n",
       "    <tr style=\"text-align: right;\">\n",
       "      <th></th>\n",
       "      <th>Manager Tenure</th>\n",
       "      <th>Manager SoC</th>\n",
       "      <th>ManagerPM</th>\n",
       "      <th>Manager Type</th>\n",
       "      <th>Manager Reward Level</th>\n",
       "      <th>Team Performance</th>\n",
       "      <th>High Performance Team</th>\n",
       "      <th>avg_score</th>\n",
       "    </tr>\n",
       "  </thead>\n",
       "  <tbody>\n",
       "    <tr>\n",
       "      <th>1</th>\n",
       "      <td>15</td>\n",
       "      <td>5</td>\n",
       "      <td>7</td>\n",
       "      <td>2</td>\n",
       "      <td>9</td>\n",
       "      <td>6.00000</td>\n",
       "      <td>High</td>\n",
       "      <td>9.25000</td>\n",
       "    </tr>\n",
       "    <tr>\n",
       "      <th>2</th>\n",
       "      <td>5</td>\n",
       "      <td>4</td>\n",
       "      <td>5</td>\n",
       "      <td>1</td>\n",
       "      <td>9</td>\n",
       "      <td>6.00000</td>\n",
       "      <td>High</td>\n",
       "      <td>3.75000</td>\n",
       "    </tr>\n",
       "    <tr>\n",
       "      <th>3</th>\n",
       "      <td>5</td>\n",
       "      <td>11</td>\n",
       "      <td>6</td>\n",
       "      <td>2</td>\n",
       "      <td>9</td>\n",
       "      <td>5.55556</td>\n",
       "      <td>Low</td>\n",
       "      <td>6.77778</td>\n",
       "    </tr>\n",
       "    <tr>\n",
       "      <th>6</th>\n",
       "      <td>2</td>\n",
       "      <td>12</td>\n",
       "      <td>6</td>\n",
       "      <td>2</td>\n",
       "      <td>10</td>\n",
       "      <td>5.45455</td>\n",
       "      <td>Low</td>\n",
       "      <td>9.36364</td>\n",
       "    </tr>\n",
       "    <tr>\n",
       "      <th>7</th>\n",
       "      <td>10</td>\n",
       "      <td>6</td>\n",
       "      <td>4</td>\n",
       "      <td>2</td>\n",
       "      <td>9</td>\n",
       "      <td>5.80000</td>\n",
       "      <td>High</td>\n",
       "      <td>3.80000</td>\n",
       "    </tr>\n",
       "  </tbody>\n",
       "</table>\n",
       "</div>"
      ],
      "text/plain": [
       "   Manager Tenure  Manager SoC  ManagerPM  Manager Type  Manager Reward Level  \\\n",
       "1              15            5          7             2                     9   \n",
       "2               5            4          5             1                     9   \n",
       "3               5           11          6             2                     9   \n",
       "6               2           12          6             2                    10   \n",
       "7              10            6          4             2                     9   \n",
       "\n",
       "   Team Performance High Performance Team  avg_score  \n",
       "1           6.00000                  High    9.25000  \n",
       "2           6.00000                  High    3.75000  \n",
       "3           5.55556                   Low    6.77778  \n",
       "6           5.45455                   Low    9.36364  \n",
       "7           5.80000                  High    3.80000  "
      ]
     },
     "execution_count": 707,
     "metadata": {},
     "output_type": "execute_result"
    }
   ],
   "source": [
    "data.head(5)"
   ]
  },
  {
   "cell_type": "code",
   "execution_count": 647,
   "id": "9b1ae22d",
   "metadata": {},
   "outputs": [
    {
     "data": {
      "text/plain": [
       "count   4625.00000\n",
       "mean       5.60465\n",
       "std        0.67395\n",
       "min        2.00000\n",
       "25%        5.18182\n",
       "50%        5.58333\n",
       "75%        6.00000\n",
       "max        9.00000\n",
       "Name: Team Performance, dtype: float64"
      ]
     },
     "execution_count": 647,
     "metadata": {},
     "output_type": "execute_result"
    }
   ],
   "source": [
    "survey['Team Performance'].describe()"
   ]
  },
  {
   "cell_type": "code",
   "execution_count": 704,
   "id": "1eb9aafa",
   "metadata": {},
   "outputs": [],
   "source": [
    "def my_recode4(var):\n",
    "    if var > 6:\n",
    "        return 'High'\n",
    "    if var < 5.2:\n",
    "        return 'Low'\n",
    "    else:\n",
    "        return 'Medium'\n"
   ]
  },
  {
   "cell_type": "code",
   "execution_count": 706,
   "id": "7706624e",
   "metadata": {},
   "outputs": [],
   "source": [
    "survey['High Performance Team'] = survey['Team Performance'].apply(my_recode4)"
   ]
  },
  {
   "cell_type": "markdown",
   "id": "7e082d07",
   "metadata": {},
   "source": [
    "## Univariate Analysis"
   ]
  },
  {
   "cell_type": "code",
   "execution_count": 560,
   "id": "11399e1d",
   "metadata": {},
   "outputs": [
    {
     "name": "stdout",
     "output_type": "stream",
     "text": [
      "0.01131742698150472\n"
     ]
    }
   ],
   "source": [
    "# manager tenure vs. manager score\n",
    "var1 = data['Manager Tenure'].astype(float)\n",
    "var2 = data['avg_score'].astype(float)\n",
    "cor1 = var1.corr(var2)\n",
    "print(cor1)"
   ]
  },
  {
   "cell_type": "code",
   "execution_count": 561,
   "id": "56b591b4",
   "metadata": {},
   "outputs": [
    {
     "name": "stdout",
     "output_type": "stream",
     "text": [
      "-0.03082075706879801\n"
     ]
    }
   ],
   "source": [
    "var1 = data['Manager SoC'].astype(float)\n",
    "var2 = data['avg_score'].astype(float)\n",
    "cor1 = var1.corr(var2)\n",
    "print(cor1)"
   ]
  },
  {
   "cell_type": "code",
   "execution_count": 564,
   "id": "4a3fd492",
   "metadata": {},
   "outputs": [
    {
     "data": {
      "text/html": [
       "<div>\n",
       "<style scoped>\n",
       "    .dataframe tbody tr th:only-of-type {\n",
       "        vertical-align: middle;\n",
       "    }\n",
       "\n",
       "    .dataframe tbody tr th {\n",
       "        vertical-align: top;\n",
       "    }\n",
       "\n",
       "    .dataframe thead th {\n",
       "        text-align: right;\n",
       "    }\n",
       "</style>\n",
       "<table border=\"1\" class=\"dataframe\">\n",
       "  <thead>\n",
       "    <tr style=\"text-align: right;\">\n",
       "      <th></th>\n",
       "      <th>Manager Tenure</th>\n",
       "      <th>Manager SoC</th>\n",
       "      <th>ManagerPM</th>\n",
       "      <th>Manager Type</th>\n",
       "      <th>Manager Reward Level</th>\n",
       "      <th>Team Performance</th>\n",
       "      <th>avg_score</th>\n",
       "    </tr>\n",
       "  </thead>\n",
       "  <tbody>\n",
       "    <tr>\n",
       "      <th>Manager Tenure</th>\n",
       "      <td>1.000000</td>\n",
       "      <td>0.020482</td>\n",
       "      <td>-0.109453</td>\n",
       "      <td>0.208642</td>\n",
       "      <td>0.200254</td>\n",
       "      <td>0.130017</td>\n",
       "      <td>0.011317</td>\n",
       "    </tr>\n",
       "    <tr>\n",
       "      <th>Manager SoC</th>\n",
       "      <td>0.020482</td>\n",
       "      <td>1.000000</td>\n",
       "      <td>0.071422</td>\n",
       "      <td>-0.015385</td>\n",
       "      <td>-0.188685</td>\n",
       "      <td>-0.036934</td>\n",
       "      <td>-0.030821</td>\n",
       "    </tr>\n",
       "    <tr>\n",
       "      <th>ManagerPM</th>\n",
       "      <td>-0.109453</td>\n",
       "      <td>0.071422</td>\n",
       "      <td>1.000000</td>\n",
       "      <td>0.046377</td>\n",
       "      <td>-0.015108</td>\n",
       "      <td>0.178344</td>\n",
       "      <td>0.132136</td>\n",
       "    </tr>\n",
       "    <tr>\n",
       "      <th>Manager Type</th>\n",
       "      <td>0.208642</td>\n",
       "      <td>-0.015385</td>\n",
       "      <td>0.046377</td>\n",
       "      <td>1.000000</td>\n",
       "      <td>0.535675</td>\n",
       "      <td>0.175102</td>\n",
       "      <td>-0.011995</td>\n",
       "    </tr>\n",
       "    <tr>\n",
       "      <th>Manager Reward Level</th>\n",
       "      <td>0.200254</td>\n",
       "      <td>-0.188685</td>\n",
       "      <td>-0.015108</td>\n",
       "      <td>0.535675</td>\n",
       "      <td>1.000000</td>\n",
       "      <td>0.189070</td>\n",
       "      <td>-0.018693</td>\n",
       "    </tr>\n",
       "    <tr>\n",
       "      <th>Team Performance</th>\n",
       "      <td>0.130017</td>\n",
       "      <td>-0.036934</td>\n",
       "      <td>0.178344</td>\n",
       "      <td>0.175102</td>\n",
       "      <td>0.189070</td>\n",
       "      <td>1.000000</td>\n",
       "      <td>0.104992</td>\n",
       "    </tr>\n",
       "    <tr>\n",
       "      <th>avg_score</th>\n",
       "      <td>0.011317</td>\n",
       "      <td>-0.030821</td>\n",
       "      <td>0.132136</td>\n",
       "      <td>-0.011995</td>\n",
       "      <td>-0.018693</td>\n",
       "      <td>0.104992</td>\n",
       "      <td>1.000000</td>\n",
       "    </tr>\n",
       "  </tbody>\n",
       "</table>\n",
       "</div>"
      ],
      "text/plain": [
       "                      Manager Tenure  Manager SoC  ManagerPM  Manager Type  \\\n",
       "Manager Tenure              1.000000     0.020482  -0.109453      0.208642   \n",
       "Manager SoC                 0.020482     1.000000   0.071422     -0.015385   \n",
       "ManagerPM                  -0.109453     0.071422   1.000000      0.046377   \n",
       "Manager Type                0.208642    -0.015385   0.046377      1.000000   \n",
       "Manager Reward Level        0.200254    -0.188685  -0.015108      0.535675   \n",
       "Team Performance            0.130017    -0.036934   0.178344      0.175102   \n",
       "avg_score                   0.011317    -0.030821   0.132136     -0.011995   \n",
       "\n",
       "                      Manager Reward Level  Team Performance  avg_score  \n",
       "Manager Tenure                    0.200254          0.130017   0.011317  \n",
       "Manager SoC                      -0.188685         -0.036934  -0.030821  \n",
       "ManagerPM                        -0.015108          0.178344   0.132136  \n",
       "Manager Type                      0.535675          0.175102  -0.011995  \n",
       "Manager Reward Level              1.000000          0.189070  -0.018693  \n",
       "Team Performance                  0.189070          1.000000   0.104992  \n",
       "avg_score                        -0.018693          0.104992   1.000000  "
      ]
     },
     "execution_count": 564,
     "metadata": {},
     "output_type": "execute_result"
    }
   ],
   "source": [
    "data.corr(method = 'pearson')"
   ]
  },
  {
   "cell_type": "code",
   "execution_count": 708,
   "id": "216d4529",
   "metadata": {},
   "outputs": [
    {
     "name": "stdout",
     "output_type": "stream",
     "text": [
      "Manager SoC\n",
      "1     9.55000\n",
      "2     9.52830\n",
      "3     9.39877\n",
      "4     9.09971\n",
      "5     9.35189\n",
      "6     9.15254\n",
      "7     9.22862\n",
      "8     8.95463\n",
      "9     9.04684\n",
      "10    9.22969\n",
      "11    9.27668\n",
      "12    9.23786\n",
      "13    9.17881\n",
      "14    9.38994\n",
      "15    9.17857\n",
      "16    9.44286\n",
      "17    8.87097\n",
      "18    9.47500\n",
      "19    9.30435\n",
      "20    9.56522\n",
      "22    9.31818\n",
      "23    9.62500\n",
      "24    9.50000\n",
      "25   10.00000\n",
      "26    9.41667\n",
      "27    9.33333\n",
      "28    9.77778\n",
      "Name: MNPS, dtype: float64\n",
      "Manager SoC\n",
      "1      20\n",
      "2      53\n",
      "3     163\n",
      "4     341\n",
      "5     449\n",
      "6     531\n",
      "7     538\n",
      "8     551\n",
      "9     427\n",
      "10    357\n",
      "11    253\n",
      "12    206\n",
      "13    151\n",
      "14    159\n",
      "15    112\n",
      "16     70\n",
      "17     31\n",
      "18     40\n",
      "19     46\n",
      "20     23\n",
      "22     44\n",
      "23      8\n",
      "24     10\n",
      "25      6\n",
      "26     12\n",
      "27      6\n",
      "28     18\n",
      "Name: MNPS, dtype: int64\n",
      "Manager Tenure\n",
      "0    9.08852\n",
      "1    9.34423\n",
      "2    9.10065\n",
      "3    9.24291\n",
      "4    9.39768\n",
      "5    9.25063\n",
      "6    9.33969\n",
      "7    9.08085\n",
      "8    8.91270\n",
      "9    9.22222\n",
      "10   8.84286\n",
      "11   8.82031\n",
      "12   9.22137\n",
      "13   8.93204\n",
      "14   9.15837\n",
      "15   9.13978\n",
      "16   9.15447\n",
      "17   9.42222\n",
      "18   9.37941\n",
      "Name: MNPS, dtype: float64\n",
      "Manager Reward Level\n",
      "3    9.00000\n",
      "4    9.04545\n",
      "5    9.26891\n",
      "6    9.24649\n",
      "7    9.24665\n",
      "8    9.10316\n",
      "9    9.12129\n",
      "10   8.96465\n",
      "11   9.18462\n",
      "Name: MNPS, dtype: float64\n",
      "High Performance Team\n",
      "High     9.33939\n",
      "Low      9.10276\n",
      "Medium   9.19136\n",
      "Name: MNPS, dtype: float64\n"
     ]
    }
   ],
   "source": [
    "grp1=survey.groupby('Manager SoC').MNPS.mean()\n",
    "grp2=survey.groupby('Manager SoC').MNPS.size()\n",
    "grp3=survey.groupby('Manager Tenure').MNPS.mean()\n",
    "grp4 = survey.groupby('Manager Reward Level').MNPS.mean()\n",
    "grp5 = survey.groupby('High Performance Team').MNPS.mean()\n",
    "print(grp1)\n",
    "print(grp2)\n",
    "print(grp3)\n",
    "print(grp4)\n",
    "print(grp5)"
   ]
  },
  {
   "cell_type": "code",
   "execution_count": 664,
   "id": "d0eb1d6c",
   "metadata": {},
   "outputs": [
    {
     "data": {
      "image/png": "[encoded data removed]",
      "text/plain": [
       "<Figure size 504x360 with 1 Axes>"
      ]
     },
     "metadata": {
      "needs_background": "light"
     },
     "output_type": "display_data"
    }
   ],
   "source": [
    "plt.figure(figsize=(7,5))\n",
    "grp1.plot(color = 'blue')\n",
    "plt.xlabel('Span of Control')\n",
    "plt.ylabel ('Avg MNPS') \n",
    "plt.show()"
   ]
  },
  {
   "cell_type": "code",
   "execution_count": 643,
   "id": "682fbad8",
   "metadata": {},
   "outputs": [
    {
     "data": {
      "image/png": "[encoded data removed]",
      "text/plain": [
       "<Figure size 504x360 with 1 Axes>"
      ]
     },
     "metadata": {
      "needs_background": "light"
     },
     "output_type": "display_data"
    }
   ],
   "source": [
    "plt.figure(figsize=(7,5))\n",
    "grp2.plot(color = 'red')\n",
    "plt.xlabel('Span of Control')\n",
    "plt.ylabel('Manager Headcount')\n",
    "plt.show()"
   ]
  },
  {
   "cell_type": "code",
   "execution_count": 645,
   "id": "e7d5470c",
   "metadata": {},
   "outputs": [
    {
     "data": {
      "image/png": "[encoded data removed]",
      "text/plain": [
       "<Figure size 504x360 with 1 Axes>"
      ]
     },
     "metadata": {
      "needs_background": "light"
     },
     "output_type": "display_data"
    }
   ],
   "source": [
    "plt.figure(figsize=(7,5))\n",
    "grp3.plot(color = 'green')\n",
    "plt.ylabel ('Avg MNPS') \n",
    "plt.show()"
   ]
  },
  {
   "cell_type": "code",
   "execution_count": 646,
   "id": "929b9455",
   "metadata": {},
   "outputs": [
    {
     "data": {
      "image/png": "[encoded data removed]",
      "text/plain": [
       "<Figure size 504x360 with 1 Axes>"
      ]
     },
     "metadata": {
      "needs_background": "light"
     },
     "output_type": "display_data"
    }
   ],
   "source": [
    "plt.figure(figsize=(7,5))\n",
    "grp4.plot(color = 'orange')\n",
    "plt.ylabel('Avg MNPS')\n",
    "plt.show()"
   ]
  },
  {
   "cell_type": "code",
   "execution_count": 620,
   "id": "f4500473",
   "metadata": {},
   "outputs": [
    {
     "data": {
      "image/png": "[encoded data removed]",
      "text/plain": [
       "<Figure size 504x360 with 1 Axes>"
      ]
     },
     "metadata": {
      "needs_background": "light"
     },
     "output_type": "display_data"
    }
   ],
   "source": [
    "plt.figure(figsize=(7,5))\n",
    "\n",
    "plt.scatter(data['Team Performance'], data['avg_score'], alpha=0.5)\n",
    "plt.title(\"Team Performance vs Average MNPS\")\n",
    "plt.xlabel(\"Team Performance\")\n",
    "plt.ylabel(\"Average MNPS\")\n",
    "plt.show()"
   ]
  },
  {
   "cell_type": "markdown",
   "id": "da210b34",
   "metadata": {},
   "source": [
    "## Model Building"
   ]
  },
  {
   "cell_type": "code",
   "execution_count": 606,
   "id": "ab5eb01a",
   "metadata": {},
   "outputs": [
    {
     "data": {
      "text/html": [
       "<div>\n",
       "<style scoped>\n",
       "    .dataframe tbody tr th:only-of-type {\n",
       "        vertical-align: middle;\n",
       "    }\n",
       "\n",
       "    .dataframe tbody tr th {\n",
       "        vertical-align: top;\n",
       "    }\n",
       "\n",
       "    .dataframe thead th {\n",
       "        text-align: right;\n",
       "    }\n",
       "</style>\n",
       "<table border=\"1\" class=\"dataframe\">\n",
       "  <thead>\n",
       "    <tr style=\"text-align: right;\">\n",
       "      <th></th>\n",
       "      <th>Manager Tenure</th>\n",
       "      <th>Manager SoC</th>\n",
       "      <th>ManagerPM</th>\n",
       "      <th>Manager Type</th>\n",
       "      <th>Manager Reward Level</th>\n",
       "      <th>Team Performance</th>\n",
       "      <th>avg_score</th>\n",
       "    </tr>\n",
       "  </thead>\n",
       "  <tbody>\n",
       "    <tr>\n",
       "      <th>0</th>\n",
       "      <td>18</td>\n",
       "      <td>3</td>\n",
       "      <td>7</td>\n",
       "      <td>2</td>\n",
       "      <td>6</td>\n",
       "      <td>6.333333</td>\n",
       "      <td>10.000000</td>\n",
       "    </tr>\n",
       "    <tr>\n",
       "      <th>1</th>\n",
       "      <td>15</td>\n",
       "      <td>5</td>\n",
       "      <td>7</td>\n",
       "      <td>2</td>\n",
       "      <td>9</td>\n",
       "      <td>6.000000</td>\n",
       "      <td>9.250000</td>\n",
       "    </tr>\n",
       "    <tr>\n",
       "      <th>2</th>\n",
       "      <td>5</td>\n",
       "      <td>4</td>\n",
       "      <td>5</td>\n",
       "      <td>1</td>\n",
       "      <td>9</td>\n",
       "      <td>6.000000</td>\n",
       "      <td>3.750000</td>\n",
       "    </tr>\n",
       "    <tr>\n",
       "      <th>3</th>\n",
       "      <td>5</td>\n",
       "      <td>11</td>\n",
       "      <td>6</td>\n",
       "      <td>2</td>\n",
       "      <td>9</td>\n",
       "      <td>5.555556</td>\n",
       "      <td>6.777778</td>\n",
       "    </tr>\n",
       "    <tr>\n",
       "      <th>4</th>\n",
       "      <td>18</td>\n",
       "      <td>10</td>\n",
       "      <td>8</td>\n",
       "      <td>1</td>\n",
       "      <td>5</td>\n",
       "      <td>5.333333</td>\n",
       "      <td>9.888889</td>\n",
       "    </tr>\n",
       "  </tbody>\n",
       "</table>\n",
       "</div>"
      ],
      "text/plain": [
       "   Manager Tenure  Manager SoC  ManagerPM  Manager Type  Manager Reward Level  \\\n",
       "0              18            3          7             2                     6   \n",
       "1              15            5          7             2                     9   \n",
       "2               5            4          5             1                     9   \n",
       "3               5           11          6             2                     9   \n",
       "4              18           10          8             1                     5   \n",
       "\n",
       "   Team Performance  avg_score  \n",
       "0          6.333333  10.000000  \n",
       "1          6.000000   9.250000  \n",
       "2          6.000000   3.750000  \n",
       "3          5.555556   6.777778  \n",
       "4          5.333333   9.888889  "
      ]
     },
     "execution_count": 606,
     "metadata": {},
     "output_type": "execute_result"
    }
   ],
   "source": [
    "data.head(5)"
   ]
  },
  {
   "cell_type": "code",
   "execution_count": 607,
   "id": "f9488126",
   "metadata": {},
   "outputs": [],
   "source": [
    "Y = data['avg_score']\n",
    "X = data.drop(['avg_score'], axis = 1)"
   ]
  },
  {
   "cell_type": "code",
   "execution_count": 608,
   "id": "ef49c8ab",
   "metadata": {},
   "outputs": [],
   "source": [
    "X_train, X_test, y_train, y_test = train_test_split(X,Y, test_size = 0.3, random_state = 1234)"
   ]
  },
  {
   "cell_type": "code",
   "execution_count": 609,
   "id": "16031287",
   "metadata": {},
   "outputs": [
    {
     "name": "stdout",
     "output_type": "stream",
     "text": [
      "Training Data Count:866\n",
      "Testing Data Count:372\n"
     ]
    }
   ],
   "source": [
    "print('Training Data Count:{}'.format(X_train.shape[0]))\n",
    "print('Testing Data Count:{}'.format(X_test.shape[0]))"
   ]
  },
  {
   "cell_type": "code",
   "execution_count": 610,
   "id": "28ac4670",
   "metadata": {},
   "outputs": [],
   "source": [
    "from sklearn.linear_model import LinearRegression\n",
    "from sklearn.model_selection import train_test_split\n",
    "from sklearn.metrics import mean_absolute_error\n",
    "import statsmodels.api as sm\n",
    "from statsmodels.tools.eval_measures import mse, rmse\n",
    "import seaborn as sns\n",
    "pd.options.display.float_format = '{:.5f}'.format\n",
    "import warnings\n",
    "import math\n",
    "import scipy.stats as stats\n",
    "import scipy\n",
    "from sklearn.preprocessing import scale\n",
    "warnings.filterwarnings('ignore')\n"
   ]
  },
  {
   "cell_type": "code",
   "execution_count": 612,
   "id": "512424a1",
   "metadata": {},
   "outputs": [],
   "source": [
    "X_train = sm.add_constant(X_train)\n"
   ]
  },
  {
   "cell_type": "code",
   "execution_count": 614,
   "id": "c6f73abb",
   "metadata": {},
   "outputs": [
    {
     "data": {
      "text/html": [
       "<table class=\"simpletable\">\n",
       "<caption>OLS Regression Results</caption>\n",
       "<tr>\n",
       "  <th>Dep. Variable:</th>        <td>avg_score</td>    <th>  R-squared:         </th> <td>   0.033</td>\n",
       "</tr>\n",
       "<tr>\n",
       "  <th>Model:</th>                   <td>OLS</td>       <th>  Adj. R-squared:    </th> <td>   0.026</td>\n",
       "</tr>\n",
       "<tr>\n",
       "  <th>Method:</th>             <td>Least Squares</td>  <th>  F-statistic:       </th> <td>   4.854</td>\n",
       "</tr>\n",
       "<tr>\n",
       "  <th>Date:</th>             <td>Mon, 08 Nov 2021</td> <th>  Prob (F-statistic):</th> <td>6.90e-05</td>\n",
       "</tr>\n",
       "<tr>\n",
       "  <th>Time:</th>                 <td>12:00:27</td>     <th>  Log-Likelihood:    </th> <td> -1269.9</td>\n",
       "</tr>\n",
       "<tr>\n",
       "  <th>No. Observations:</th>      <td>   866</td>      <th>  AIC:               </th> <td>   2554.</td>\n",
       "</tr>\n",
       "<tr>\n",
       "  <th>Df Residuals:</th>          <td>   859</td>      <th>  BIC:               </th> <td>   2587.</td>\n",
       "</tr>\n",
       "<tr>\n",
       "  <th>Df Model:</th>              <td>     6</td>      <th>                     </th>     <td> </td>   \n",
       "</tr>\n",
       "<tr>\n",
       "  <th>Covariance Type:</th>      <td>nonrobust</td>    <th>                     </th>     <td> </td>   \n",
       "</tr>\n",
       "</table>\n",
       "<table class=\"simpletable\">\n",
       "<tr>\n",
       "            <td></td>              <th>coef</th>     <th>std err</th>      <th>t</th>      <th>P>|t|</th>  <th>[0.025</th>    <th>0.975]</th>  \n",
       "</tr>\n",
       "<tr>\n",
       "  <th>const</th>                <td>    7.9469</td> <td>    0.344</td> <td>   23.079</td> <td> 0.000</td> <td>    7.271</td> <td>    8.623</td>\n",
       "</tr>\n",
       "<tr>\n",
       "  <th>Manager Tenure</th>       <td>    0.0045</td> <td>    0.007</td> <td>    0.660</td> <td> 0.509</td> <td>   -0.009</td> <td>    0.018</td>\n",
       "</tr>\n",
       "<tr>\n",
       "  <th>Manager SoC</th>          <td>   -0.0167</td> <td>    0.010</td> <td>   -1.741</td> <td> 0.082</td> <td>   -0.035</td> <td>    0.002</td>\n",
       "</tr>\n",
       "<tr>\n",
       "  <th>ManagerPM</th>            <td>    0.1166</td> <td>    0.032</td> <td>    3.693</td> <td> 0.000</td> <td>    0.055</td> <td>    0.179</td>\n",
       "</tr>\n",
       "<tr>\n",
       "  <th>Manager Type</th>         <td>   -0.0856</td> <td>    0.095</td> <td>   -0.897</td> <td> 0.370</td> <td>   -0.273</td> <td>    0.102</td>\n",
       "</tr>\n",
       "<tr>\n",
       "  <th>Manager Reward Level</th> <td>   -0.0253</td> <td>    0.031</td> <td>   -0.816</td> <td> 0.415</td> <td>   -0.086</td> <td>    0.035</td>\n",
       "</tr>\n",
       "<tr>\n",
       "  <th>Team Performance</th>     <td>    0.1270</td> <td>    0.050</td> <td>    2.561</td> <td> 0.011</td> <td>    0.030</td> <td>    0.224</td>\n",
       "</tr>\n",
       "</table>\n",
       "<table class=\"simpletable\">\n",
       "<tr>\n",
       "  <th>Omnibus:</th>       <td>393.674</td> <th>  Durbin-Watson:     </th> <td>   2.188</td>\n",
       "</tr>\n",
       "<tr>\n",
       "  <th>Prob(Omnibus):</th> <td> 0.000</td>  <th>  Jarque-Bera (JB):  </th> <td>2150.099</td>\n",
       "</tr>\n",
       "<tr>\n",
       "  <th>Skew:</th>          <td>-2.041</td>  <th>  Prob(JB):          </th> <td>    0.00</td>\n",
       "</tr>\n",
       "<tr>\n",
       "  <th>Kurtosis:</th>      <td> 9.552</td>  <th>  Cond. No.          </th> <td>    146.</td>\n",
       "</tr>\n",
       "</table><br/><br/>Notes:<br/>[1] Standard Errors assume that the covariance matrix of the errors is correctly specified."
      ],
      "text/plain": [
       "<class 'statsmodels.iolib.summary.Summary'>\n",
       "\"\"\"\n",
       "                            OLS Regression Results                            \n",
       "==============================================================================\n",
       "Dep. Variable:              avg_score   R-squared:                       0.033\n",
       "Model:                            OLS   Adj. R-squared:                  0.026\n",
       "Method:                 Least Squares   F-statistic:                     4.854\n",
       "Date:                Mon, 08 Nov 2021   Prob (F-statistic):           6.90e-05\n",
       "Time:                        12:00:27   Log-Likelihood:                -1269.9\n",
       "No. Observations:                 866   AIC:                             2554.\n",
       "Df Residuals:                     859   BIC:                             2587.\n",
       "Df Model:                           6                                         \n",
       "Covariance Type:            nonrobust                                         \n",
       "========================================================================================\n",
       "                           coef    std err          t      P>|t|      [0.025      0.975]\n",
       "----------------------------------------------------------------------------------------\n",
       "const                    7.9469      0.344     23.079      0.000       7.271       8.623\n",
       "Manager Tenure           0.0045      0.007      0.660      0.509      -0.009       0.018\n",
       "Manager SoC             -0.0167      0.010     -1.741      0.082      -0.035       0.002\n",
       "ManagerPM                0.1166      0.032      3.693      0.000       0.055       0.179\n",
       "Manager Type            -0.0856      0.095     -0.897      0.370      -0.273       0.102\n",
       "Manager Reward Level    -0.0253      0.031     -0.816      0.415      -0.086       0.035\n",
       "Team Performance         0.1270      0.050      2.561      0.011       0.030       0.224\n",
       "==============================================================================\n",
       "Omnibus:                      393.674   Durbin-Watson:                   2.188\n",
       "Prob(Omnibus):                  0.000   Jarque-Bera (JB):             2150.099\n",
       "Skew:                          -2.041   Prob(JB):                         0.00\n",
       "Kurtosis:                       9.552   Cond. No.                         146.\n",
       "==============================================================================\n",
       "\n",
       "Notes:\n",
       "[1] Standard Errors assume that the covariance matrix of the errors is correctly specified.\n",
       "\"\"\""
      ]
     },
     "execution_count": 614,
     "metadata": {},
     "output_type": "execute_result"
    }
   ],
   "source": [
    "results = sm.OLS(y_train, X_train.astype(float)).fit()\n",
    "results.summary()"
   ]
  },
  {
   "cell_type": "code",
   "execution_count": 622,
   "id": "49ef31bb",
   "metadata": {},
   "outputs": [
    {
     "name": "stdout",
     "output_type": "stream",
     "text": [
      "Training Data Count: 866\n",
      "Testing Data Count: 372\n"
     ]
    }
   ],
   "source": [
    "X2 = data[[\"ManagerPM\",\"Team Performance\"]]\n",
    "X2_train, X2_test, y2_train, y2_test = train_test_split(X2,Y,test_size = 0.3, random_state = 1234)\n",
    "\n",
    "print('Training Data Count:', X2_train.shape[0])\n",
    "print('Testing Data Count:', X2_test.shape[0])\n"
   ]
  },
  {
   "cell_type": "code",
   "execution_count": 623,
   "id": "3d38f3da",
   "metadata": {},
   "outputs": [
    {
     "data": {
      "text/html": [
       "<table class=\"simpletable\">\n",
       "<caption>OLS Regression Results</caption>\n",
       "<tr>\n",
       "  <th>Dep. Variable:</th>        <td>avg_score</td>    <th>  R-squared:         </th> <td>   0.026</td>\n",
       "</tr>\n",
       "<tr>\n",
       "  <th>Model:</th>                   <td>OLS</td>       <th>  Adj. R-squared:    </th> <td>   0.024</td>\n",
       "</tr>\n",
       "<tr>\n",
       "  <th>Method:</th>             <td>Least Squares</td>  <th>  F-statistic:       </th> <td>   11.63</td>\n",
       "</tr>\n",
       "<tr>\n",
       "  <th>Date:</th>             <td>Mon, 08 Nov 2021</td> <th>  Prob (F-statistic):</th> <td>1.04e-05</td>\n",
       "</tr>\n",
       "<tr>\n",
       "  <th>Time:</th>                 <td>12:18:18</td>     <th>  Log-Likelihood:    </th> <td> -1272.8</td>\n",
       "</tr>\n",
       "<tr>\n",
       "  <th>No. Observations:</th>      <td>   866</td>      <th>  AIC:               </th> <td>   2552.</td>\n",
       "</tr>\n",
       "<tr>\n",
       "  <th>Df Residuals:</th>          <td>   863</td>      <th>  BIC:               </th> <td>   2566.</td>\n",
       "</tr>\n",
       "<tr>\n",
       "  <th>Df Model:</th>              <td>     2</td>      <th>                     </th>     <td> </td>   \n",
       "</tr>\n",
       "<tr>\n",
       "  <th>Covariance Type:</th>      <td>nonrobust</td>    <th>                     </th>     <td> </td>   \n",
       "</tr>\n",
       "</table>\n",
       "<table class=\"simpletable\">\n",
       "<tr>\n",
       "          <td></td>            <th>coef</th>     <th>std err</th>      <th>t</th>      <th>P>|t|</th>  <th>[0.025</th>    <th>0.975]</th>  \n",
       "</tr>\n",
       "<tr>\n",
       "  <th>const</th>            <td>    7.6351</td> <td>    0.300</td> <td>   25.412</td> <td> 0.000</td> <td>    7.045</td> <td>    8.225</td>\n",
       "</tr>\n",
       "<tr>\n",
       "  <th>ManagerPM</th>        <td>    0.1124</td> <td>    0.031</td> <td>    3.612</td> <td> 0.000</td> <td>    0.051</td> <td>    0.173</td>\n",
       "</tr>\n",
       "<tr>\n",
       "  <th>Team Performance</th> <td>    0.1198</td> <td>    0.048</td> <td>    2.472</td> <td> 0.014</td> <td>    0.025</td> <td>    0.215</td>\n",
       "</tr>\n",
       "</table>\n",
       "<table class=\"simpletable\">\n",
       "<tr>\n",
       "  <th>Omnibus:</th>       <td>398.280</td> <th>  Durbin-Watson:     </th> <td>   2.191</td>\n",
       "</tr>\n",
       "<tr>\n",
       "  <th>Prob(Omnibus):</th> <td> 0.000</td>  <th>  Jarque-Bera (JB):  </th> <td>2270.301</td>\n",
       "</tr>\n",
       "<tr>\n",
       "  <th>Skew:</th>          <td>-2.051</td>  <th>  Prob(JB):          </th> <td>    0.00</td>\n",
       "</tr>\n",
       "<tr>\n",
       "  <th>Kurtosis:</th>      <td> 9.789</td>  <th>  Cond. No.          </th> <td>    70.0</td>\n",
       "</tr>\n",
       "</table><br/><br/>Notes:<br/>[1] Standard Errors assume that the covariance matrix of the errors is correctly specified."
      ],
      "text/plain": [
       "<class 'statsmodels.iolib.summary.Summary'>\n",
       "\"\"\"\n",
       "                            OLS Regression Results                            \n",
       "==============================================================================\n",
       "Dep. Variable:              avg_score   R-squared:                       0.026\n",
       "Model:                            OLS   Adj. R-squared:                  0.024\n",
       "Method:                 Least Squares   F-statistic:                     11.63\n",
       "Date:                Mon, 08 Nov 2021   Prob (F-statistic):           1.04e-05\n",
       "Time:                        12:18:18   Log-Likelihood:                -1272.8\n",
       "No. Observations:                 866   AIC:                             2552.\n",
       "Df Residuals:                     863   BIC:                             2566.\n",
       "Df Model:                           2                                         \n",
       "Covariance Type:            nonrobust                                         \n",
       "====================================================================================\n",
       "                       coef    std err          t      P>|t|      [0.025      0.975]\n",
       "------------------------------------------------------------------------------------\n",
       "const                7.6351      0.300     25.412      0.000       7.045       8.225\n",
       "ManagerPM            0.1124      0.031      3.612      0.000       0.051       0.173\n",
       "Team Performance     0.1198      0.048      2.472      0.014       0.025       0.215\n",
       "==============================================================================\n",
       "Omnibus:                      398.280   Durbin-Watson:                   2.191\n",
       "Prob(Omnibus):                  0.000   Jarque-Bera (JB):             2270.301\n",
       "Skew:                          -2.051   Prob(JB):                         0.00\n",
       "Kurtosis:                       9.789   Cond. No.                         70.0\n",
       "==============================================================================\n",
       "\n",
       "Notes:\n",
       "[1] Standard Errors assume that the covariance matrix of the errors is correctly specified.\n",
       "\"\"\""
      ]
     },
     "execution_count": 623,
     "metadata": {},
     "output_type": "execute_result"
    }
   ],
   "source": [
    "X2_train = sm.add_constant(X2_train)\n",
    "result2 = sm.OLS(y2_train, X2_train.astype(float)).fit()\n",
    "result2.summary()"
   ]
  },
  {
   "cell_type": "code",
   "execution_count": 626,
   "id": "6f0446bd",
   "metadata": {},
   "outputs": [
    {
     "data": {
      "image/png": "[encoded data removed]",
      "text/plain": [
       "<Figure size 450x300 with 1 Axes>"
      ]
     },
     "metadata": {
      "needs_background": "light"
     },
     "output_type": "display_data"
    }
   ],
   "source": [
    "\n",
    "X2_test = sm.add_constant(X2_test)\n",
    "y2_preds = result2.predict(X2_test)\n",
    "\n",
    "plt.figure(dpi = 75)\n",
    "plt.scatter(y2_test,y2_preds)\n",
    "plt.plot(y2_test, y2_test, color = 'red')\n",
    "plt.xlabel(\"Actual MNPS\")\n",
    "plt.ylabel(\"Estimated Scores\")\n",
    "plt.title(\"Model:Actual vs Estimated Scores\")\n",
    "plt.show()"
   ]
  },
  {
   "cell_type": "code",
   "execution_count": 710,
   "id": "d0661a18",
   "metadata": {},
   "outputs": [
    {
     "name": "stdout",
     "output_type": "stream",
     "text": [
      "Mean Absolute Error (MAE)         : 0.7371267832690099\n",
      "Mean Squared Error (MSE) : 1.0395152654635857\n",
      "Root Mean Squared Error (RMSE) : 1.0195662143596098\n",
      "Root Mean Squared Error (RMSE) : 1.0195662143596098\n",
      "Mean Absolute Perc. Error (MAPE) : 9.482924276856316\n"
     ]
    }
   ],
   "source": [
    "print(\"Mean Absolute Error (MAE)         : {}\".format(mean_absolute_error(y2_test, y2_preds)))\n",
    "print(\"Mean Squared Error (MSE) : {}\".format(mse(y2_test, y2_preds)))\n",
    "print(\"Root Mean Squared Error (RMSE) : {}\".format(rmse(y2_test, y2_preds)))\n",
    "print(\"Root Mean Squared Error (RMSE) : {}\".format(rmse(y2_test, y2_preds)))\n",
    "print(\"Mean Absolute Perc. Error (MAPE) : {}\".format(np.mean(np.abs((y2_test - y2_preds) / y2_test)) * 100))"
   ]
  },
  {
   "cell_type": "markdown",
   "id": "f61708d1",
   "metadata": {},
   "source": [
    "## Text Pre-processing"
   ]
  },
  {
   "cell_type": "code",
   "execution_count": 627,
   "id": "f79f2e8a",
   "metadata": {},
   "outputs": [],
   "source": [
    "# remove rows with length < 5\n",
    "survey[\"text1_length\"] = survey[\"What does your manager excel at with regard to supporting your development?\"].astype(str).apply(lambda x: len(x))\n",
    "survey = survey[(survey[\"text1_length\"]>5)]"
   ]
  },
  {
   "cell_type": "code",
   "execution_count": 628,
   "id": "8fe6921e",
   "metadata": {},
   "outputs": [
    {
     "data": {
      "text/plain": [
       "132.47805405405404"
      ]
     },
     "execution_count": 628,
     "metadata": {},
     "output_type": "execute_result"
    }
   ],
   "source": [
    "survey[\"text1_length\"].mean()"
   ]
  },
  {
   "cell_type": "code",
   "execution_count": 629,
   "id": "5c98c27a",
   "metadata": {},
   "outputs": [],
   "source": [
    "# remove text1 == NA\n",
    "survey = survey[(survey[\"MNPS\"] != '(--)')]"
   ]
  },
  {
   "cell_type": "code",
   "execution_count": 631,
   "id": "9f5e4c89",
   "metadata": {},
   "outputs": [],
   "source": [
    "# recode categorical variables# recode categorical variables\n",
    "def my_recode(var):\n",
    "    if var == 'Disagree':\n",
    "        return 1\n",
    "    if var == 'Somewhat Agree':\n",
    "        return 2\n",
    "    if var == 'Mostly Agree':\n",
    "        return 3\n",
    "    if var == 'Completely Agree':\n",
    "        return 4\n",
    "    else:\n",
    "        return 0"
   ]
  },
  {
   "cell_type": "code",
   "execution_count": 632,
   "id": "b8ddbd87",
   "metadata": {},
   "outputs": [],
   "source": [
    "survey[\"My manager and I have meaningful discussions about my career aspirations.\"] = survey[\"My manager and I have meaningful discussions about my career aspirations.\"].apply(my_recode)\n",
    "survey[\"My manager helps me identify and prioritize my development needs for current and future roles.\"] = survey[\"My manager helps me identify and prioritize my development needs for current and future roles.\"].apply(my_recode)\n",
    "survey[\"My manager takes actions to support my development.\"] = survey[\"My manager takes actions to support my development.\"].apply(my_recode)\n",
    "survey[\"My manager and I discuss progress on my development goals throughout the year.\"] = survey[\"My manager and I discuss progress on my development goals throughout the year.\"].apply(my_recode)\n",
    "survey[\"I believe my manager’s actions have helped prepare me for future opportunities and challenges.\"] = survey[\"I believe my manager’s actions have helped prepare me for future opportunities and challenges.\"].apply(my_recode)\n",
    "survey[\"I believe my manager and I have a trusting relationship.\"] = survey[\"I believe my manager and I have a trusting relationship.\"].apply(my_recode)\n",
    "survey[\"I believe my manager consistently follows through on commitments.\"] = survey[\"I believe my manager consistently follows through on commitments.\"].apply(my_recode)"
   ]
  },
  {
   "cell_type": "code",
   "execution_count": 633,
   "id": "908c573a",
   "metadata": {},
   "outputs": [],
   "source": [
    "# get the subset of all-complete-agree rows\n",
    "high_agree = survey[(survey['My manager and I have meaningful discussions about my career aspirations.'] == 4) &\n",
    "(survey['My manager helps me identify and prioritize my development needs for current and future roles.'] == 4) & \n",
    "(survey['My manager takes actions to support my development.'] == 4) &\n",
    "(survey['My manager and I discuss progress on my development goals throughout the year.'] == 4) &\n",
    "(survey['I believe my manager’s actions have helped prepare me for future opportunities and challenges.'] ==4) &\n",
    "(survey[\"I believe my manager and I have a trusting relationship.\"]==4) &\n",
    "(survey[\"I believe my manager consistently follows through on commitments.\"] == 4)]"
   ]
  },
  {
   "cell_type": "code",
   "execution_count": 634,
   "id": "35ff24c8",
   "metadata": {},
   "outputs": [
    {
     "data": {
      "text/plain": [
       "(2085, 31)"
      ]
     },
     "execution_count": 634,
     "metadata": {},
     "output_type": "execute_result"
    }
   ],
   "source": [
    "high_agree.shape"
   ]
  },
  {
   "cell_type": "code",
   "execution_count": 635,
   "id": "3e67cf4a",
   "metadata": {},
   "outputs": [],
   "source": [
    "disagree = survey[(survey['My manager and I have meaningful discussions about my career aspirations.'] == 1)|\n",
    "                       (survey['My manager and I have meaningful discussions about my career aspirations.'] == 2) &\n",
    "(survey['My manager helps me identify and prioritize my development needs for current and future roles.'] == 1 )|\n",
    " (survey['My manager helps me identify and prioritize my development needs for current and future roles.'] == 2) & \n",
    "(survey['My manager takes actions to support my development.'] == 1 )|\n",
    "(survey['My manager takes actions to support my development.'] == 2) &\n",
    "(survey['My manager and I discuss progress on my development goals throughout the year.'] == 1) |\n",
    "(survey['My manager and I discuss progress on my development goals throughout the year.'] == 2) &\n",
    "(survey['I believe my manager’s actions have helped prepare me for future opportunities and challenges.'] ==1) |\n",
    "(survey['I believe my manager’s actions have helped prepare me for future opportunities and challenges.'] ==2) &\n",
    "(survey[\"I believe my manager and I have a trusting relationship.\"]==1)|\n",
    "(survey[\"I believe my manager and I have a trusting relationship.\"]==2) &\n",
    "(survey[\"I believe my manager consistently follows through on commitments.\"] == 1)|\n",
    "(survey[\"I believe my manager consistently follows through on commitments.\"] == 2)]"
   ]
  },
  {
   "cell_type": "code",
   "execution_count": 636,
   "id": "87014f34",
   "metadata": {},
   "outputs": [
    {
     "data": {
      "text/plain": [
       "(353, 31)"
      ]
     },
     "execution_count": 636,
     "metadata": {},
     "output_type": "execute_result"
    }
   ],
   "source": [
    "disagree.shape"
   ]
  },
  {
   "cell_type": "markdown",
   "id": "edf6395d",
   "metadata": {},
   "source": [
    "### Trust & No-trust groups comparison"
   ]
  },
  {
   "cell_type": "code",
   "execution_count": 17,
   "id": "cc3ffffa",
   "metadata": {},
   "outputs": [],
   "source": [
    "no_trust = survey[(survey['I believe my manager and I have a trusting relationship.'] == 1) & \n",
    "              (survey[\"I believe my manager consistently follows through on commitments.\"]== 1)]"
   ]
  },
  {
   "cell_type": "code",
   "execution_count": 18,
   "id": "dd27542a",
   "metadata": {},
   "outputs": [],
   "source": [
    "trust = survey[(survey['I believe my manager and I have a trusting relationship.'] == 4) & \n",
    "              (survey['I believe my manager consistently follows through on commitments.']== 4)]"
   ]
  },
  {
   "cell_type": "code",
   "execution_count": 19,
   "id": "4b110cf3",
   "metadata": {},
   "outputs": [],
   "source": [
    "corpus_no_trust =no_trust[\"What does your manager excel at with regard to supporting your development?\"].astype(str)\n",
    "corpus_trust =trust[\"What does your manager excel at with regard to supporting your development?\"].astype(str)"
   ]
  },
  {
   "cell_type": "code",
   "execution_count": 20,
   "id": "7be5fdae",
   "metadata": {},
   "outputs": [],
   "source": [
    "corpus_no_trust.to_csv('text question1-no trust.csv')\n",
    "corpus_trust.to_csv('text question1-trust.csv')"
   ]
  },
  {
   "cell_type": "markdown",
   "id": "a72d83ca",
   "metadata": {},
   "source": [
    "### Develop & no-develop groups comparison"
   ]
  },
  {
   "cell_type": "code",
   "execution_count": 21,
   "id": "13d2d7fc",
   "metadata": {},
   "outputs": [],
   "source": [
    "develop = survey[(survey['My manager and I have meaningful discussions about my career aspirations.'] == 4) &\n",
    "(survey['My manager helps me identify and prioritize my development needs for current and future roles.'] == 4) & \n",
    "(survey['My manager takes actions to support my development.'] == 4) &\n",
    "(survey['My manager and I discuss progress on my development goals throughout the year.'] == 4) &\n",
    "(survey['I believe my manager’s actions have helped prepare me for future opportunities and challenges.'] ==4)]"
   ]
  },
  {
   "cell_type": "code",
   "execution_count": 22,
   "id": "f90932fe",
   "metadata": {},
   "outputs": [
    {
     "data": {
      "text/plain": [
       "2194"
      ]
     },
     "execution_count": 22,
     "metadata": {},
     "output_type": "execute_result"
    }
   ],
   "source": [
    "len(develop)"
   ]
  },
  {
   "cell_type": "code",
   "execution_count": 23,
   "id": "bcd2dadc",
   "metadata": {},
   "outputs": [],
   "source": [
    "no_develop = survey[(survey['My manager and I have meaningful discussions about my career aspirations.'] == 1)|\n",
    "                       (survey['My manager and I have meaningful discussions about my career aspirations.'] == 2) &\n",
    "(survey['My manager helps me identify and prioritize my development needs for current and future roles.'] == 1 )|\n",
    " (survey['My manager helps me identify and prioritize my development needs for current and future roles.'] == 2) & \n",
    "(survey['My manager takes actions to support my development.'] == 1 )|\n",
    "(survey['My manager takes actions to support my development.'] == 2) &\n",
    "(survey['My manager and I discuss progress on my development goals throughout the year.'] == 1) |\n",
    "(survey['My manager and I discuss progress on my development goals throughout the year.'] == 2) &\n",
    "(survey['I believe my manager’s actions have helped prepare me for future opportunities and challenges.'] ==1) |\n",
    "(survey['I believe my manager’s actions have helped prepare me for future opportunities and challenges.'] ==2)]"
   ]
  },
  {
   "cell_type": "code",
   "execution_count": 24,
   "id": "1681454a",
   "metadata": {},
   "outputs": [
    {
     "data": {
      "text/plain": [
       "632"
      ]
     },
     "execution_count": 24,
     "metadata": {},
     "output_type": "execute_result"
    }
   ],
   "source": [
    "len(no_develop)"
   ]
  },
  {
   "cell_type": "code",
   "execution_count": 25,
   "id": "cf45f829",
   "metadata": {},
   "outputs": [],
   "source": [
    "corpus1 = survey[\"What does your manager excel at with regard to supporting your development?\"].astype(str)\n",
    "corpus1a = high_agree['What does your manager excel at with regard to supporting your development?'].astype(str)\n",
    "\n",
    "corpus1c = develop['What does your manager excel at with regard to supporting your development?'].astype(str)\n",
    "corpus1d = no_develop['What could your manager do differently to better support your development?'].astype(str)\n",
    "\n",
    "corpus1b = disagree['What could your manager do differently to better support your development?'].astype(str)\n",
    "\n",
    "corpus2 = survey[\"What could your manager do differently to better support your development?\"].astype(str)\n",
    "corpus3 = survey['What would you tell your manager to do differently so that you are more likely to recommend them as a manager? - Detractor'].astype(str)\n",
    "corpus4 = survey['What would you tell your manager to do differently so that you are more likely to recommend them as a manager? - Passive'].astype(str)\n",
    "corpus34 = pd.concat([corpus3, corpus4], keys= ['Detractor','Passive'])\n",
    "#corpus5 = survey['What behaviors does your manager demonstrate that inspire you to recommend them to your colleagues?-Promotor'].astype(str)"
   ]
  },
  {
   "cell_type": "code",
   "execution_count": 26,
   "id": "18732678",
   "metadata": {},
   "outputs": [],
   "source": [
    "pd.set_option('display.max_columns', None)\n",
    "#pd.set_option('display.max_rows', None)\n",
    "#survey.head(10)"
   ]
  },
  {
   "cell_type": "code",
   "execution_count": 27,
   "id": "88613928",
   "metadata": {},
   "outputs": [
    {
     "name": "stdout",
     "output_type": "stream",
     "text": [
      "9.860431654676258\n",
      "5.973118279569892\n"
     ]
    }
   ],
   "source": [
    "print(high_agree['MNPS'].mean())\n",
    "print(disagree['MNPS'].mean())"
   ]
  },
  {
   "cell_type": "code",
   "execution_count": 29,
   "id": "186a723b",
   "metadata": {},
   "outputs": [
    {
     "data": {
      "text/plain": [
       "4645"
      ]
     },
     "execution_count": 29,
     "metadata": {},
     "output_type": "execute_result"
    }
   ],
   "source": [
    "len(corpus2)"
   ]
  },
  {
   "cell_type": "markdown",
   "id": "8b282757",
   "metadata": {},
   "source": [
    "### span of control 10,11 vs. 25"
   ]
  },
  {
   "cell_type": "code",
   "execution_count": 672,
   "id": "3c63f1cc",
   "metadata": {},
   "outputs": [
    {
     "data": {
      "text/plain": [
       "(6, 32)"
      ]
     },
     "execution_count": 672,
     "metadata": {},
     "output_type": "execute_result"
    }
   ],
   "source": [
    "soc10_11 = survey[(survey['Manager SoC'] == 10)|(survey['Manager SoC'] == 11)]\n",
    "soc10_11.shape\n",
    "soc25 = survey[(survey['Manager SoC']==25)]\n",
    "soc25.shape"
   ]
  },
  {
   "cell_type": "code",
   "execution_count": 673,
   "id": "b5e33080",
   "metadata": {},
   "outputs": [],
   "source": [
    "corpus5 = soc10_11[\"What could your manager do differently to better support your development?\"].astype(str)\n",
    "corpus6 = soc25[\"What does your manager excel at with regard to supporting your development?\"].astype(str)"
   ]
  },
  {
   "cell_type": "markdown",
   "id": "a3823bac",
   "metadata": {},
   "source": [
    "## Text preprocessing"
   ]
  },
  {
   "cell_type": "code",
   "execution_count": 674,
   "id": "694630e2",
   "metadata": {},
   "outputs": [
    {
     "name": "stdout",
     "output_type": "stream",
     "text": [
      "['i', 'me', 'my', 'myself', 'we', 'our', 'ours', 'ourselves', 'you', \"you're\", \"you've\", \"you'll\", \"you'd\", 'your', 'yours', 'yourself', 'yourselves', 'he', 'him', 'his', 'himself', 'she', \"she's\", 'her', 'hers', 'herself', 'it', \"it's\", 'its', 'itself', 'they', 'them', 'their', 'theirs', 'themselves', 'what', 'which', 'who', 'whom', 'this', 'that', \"that'll\", 'these', 'those', 'am', 'is', 'are', 'was', 'were', 'be', 'been', 'being', 'have', 'has', 'had', 'having', 'do', 'does', 'did', 'doing', 'a', 'an', 'the', 'and', 'but', 'if', 'or', 'because', 'as', 'until', 'while', 'of', 'at', 'by', 'for', 'with', 'about', 'against', 'between', 'into', 'through', 'during', 'before', 'after', 'above', 'below', 'to', 'from', 'up', 'down', 'in', 'out', 'on', 'off', 'over', 'under', 'again', 'further', 'then', 'once', 'here', 'there', 'when', 'where', 'why', 'how', 'all', 'any', 'both', 'each', 'few', 'more', 'most', 'other', 'some', 'such', 'no', 'nor', 'not', 'only', 'own', 'same', 'so', 'than', 'too', 'very', 's', 't', 'can', 'will', 'just', 'don', \"don't\", 'should', \"should've\", 'now', 'd', 'll', 'm', 'o', 're', 've', 'y', 'ain', 'aren', \"aren't\", 'couldn', \"couldn't\", 'didn', \"didn't\", 'doesn', \"doesn't\", 'hadn', \"hadn't\", 'hasn', \"hasn't\", 'haven', \"haven't\", 'isn', \"isn't\", 'ma', 'mightn', \"mightn't\", 'mustn', \"mustn't\", 'needn', \"needn't\", 'shan', \"shan't\", 'shouldn', \"shouldn't\", 'wasn', \"wasn't\", 'weren', \"weren't\", 'won', \"won't\", 'wouldn', \"wouldn't\"]\n",
      "Total numbers of stop words are \n",
      "179\n",
      "233\n"
     ]
    }
   ],
   "source": [
    "NLTK_stop_words_list=stopwords.words('english')\n",
    "print(NLTK_stop_words_list)\n",
    "print(\"Total numbers of stop words are \")\n",
    "print(len(NLTK_stop_words_list))\n",
    "\n",
    "custom_stop_word_list = ['zurich','zna','would','america','north',\n",
    "                         'thing','company','exciting','could',\n",
    "                         'work','manager', 'also','support', 'supports'\n",
    "                         'name','executive', 'nothing', 'cannot',\n",
    "                        'done','anything', 'things','think', 'time',\n",
    "                        'takes','take','everything', 'makes','make','make', \n",
    "                         'regard', 'really','comes','others','great',\n",
    "                        'good', 'employees','appreciate','moment','point',\n",
    "                        '(--)','her','his','my','their','that','this',\n",
    "                        'making','sure','development','day','supportive','need',\n",
    "                        'let','lets','supporting']\n",
    "final_stopword_list = custom_stop_word_list + NLTK_stop_words_list\n",
    "\n",
    "print(len(final_stopword_list))\n"
   ]
  },
  {
   "cell_type": "markdown",
   "id": "96e09b85",
   "metadata": {},
   "source": [
    "# Check Surrounding Words & Context"
   ]
  },
  {
   "cell_type": "markdown",
   "id": "8093408d",
   "metadata": {},
   "source": [
    "### Most Common Bi-grams "
   ]
  },
  {
   "cell_type": "code",
   "execution_count": 695,
   "id": "21e80472",
   "metadata": {},
   "outputs": [
    {
     "data": {
      "text/plain": [
       "[(('help',), 2),\n",
       " (('encourag',), 2),\n",
       " (('commun',), 1),\n",
       " (('find',), 1),\n",
       " (('proper',), 1),\n",
       " (('tool',), 1),\n",
       " (('role',), 1),\n",
       " (('independ',), 1),\n",
       " (('posit',), 1),\n",
       " (('environ',), 1)]"
      ]
     },
     "execution_count": 695,
     "metadata": {},
     "output_type": "execute_result"
    }
   ],
   "source": [
    "\n",
    "docs =[doc for doc in corpus6]\n",
    "docs = (' '.join(filter(None, docs))).lower()\n",
    "\n",
    "tokens = word_tokenize(docs)\n",
    "tokens = [t for t in tokens if t not in final_stopword_list]\n",
    "word_l = WordNetLemmatizer()\n",
    "tokens = [word_l.lemmatize(t) for t in tokens if t.isalpha()]\n",
    "word_s = PorterStemmer()\n",
    "tokens = [word_s.stem(t) for t in tokens if t.isalpha()]\n",
    "\n",
    "bi_grams = list(ngrams(tokens, 1)) \n",
    "counter = Counter(bi_grams)\n",
    "common_bigrams = counter.most_common(10)\n",
    "common_bigrams"
   ]
  },
  {
   "cell_type": "code",
   "execution_count": 701,
   "id": "ac02758f",
   "metadata": {},
   "outputs": [
    {
     "data": {
      "text/plain": [
       "252                                                                         Communication\n",
       "805     He is very supportive in helping find the proper tools for me to grow.in my role.\n",
       "1534                                   Encouraging independence in a positive environment\n",
       "1865                                                                          Good Skills\n",
       "2391                                                       Very knowledgeable and helpful\n",
       "5238                                                       He encourages doing new things\n",
       "Name: What does your manager excel at with regard to supporting your development?, dtype: object"
      ]
     },
     "execution_count": 701,
     "metadata": {},
     "output_type": "execute_result"
    }
   ],
   "source": [
    "corpus6"
   ]
  },
  {
   "cell_type": "code",
   "execution_count": 218,
   "id": "f01acd80",
   "metadata": {},
   "outputs": [],
   "source": [
    "#del common_bigrams[0]\n",
    "#del common_bigrams[5] # some phrases had high frequency but less information so we can delete some terms\n"
   ]
  },
  {
   "cell_type": "code",
   "execution_count": 696,
   "id": "835be2e8",
   "metadata": {},
   "outputs": [
    {
     "name": "stdout",
     "output_type": "stream",
     "text": [
      "[('help',), ('encourag',), ('commun',), ('find',), ('proper',), ('tool',), ('role',), ('independ',), ('posit',), ('environ',)]\n"
     ]
    }
   ],
   "source": [
    "pairs = []\n",
    "for pair in common_bigrams:\n",
    "    pairs.append(pair[0])\n",
    "print(pairs)"
   ]
  },
  {
   "cell_type": "code",
   "execution_count": 697,
   "id": "fd8ea8bb",
   "metadata": {},
   "outputs": [],
   "source": [
    "#\" \".join(pairs[0])"
   ]
  },
  {
   "cell_type": "code",
   "execution_count": 698,
   "id": "e8de339d",
   "metadata": {},
   "outputs": [],
   "source": [
    "for i in range(0,len(pairs)):\n",
    "    pairs[i] = \" \".join(pairs[i])"
   ]
  },
  {
   "cell_type": "code",
   "execution_count": 699,
   "id": "0bb19332",
   "metadata": {},
   "outputs": [],
   "source": [
    "pairs_freq = nltk.FreqDist(pairs)"
   ]
  },
  {
   "cell_type": "code",
   "execution_count": 700,
   "id": "8a401df1",
   "metadata": {},
   "outputs": [
    {
     "data": {
      "image/png": "[encoded data removed]",
      "text/plain": [
       "<Figure size 648x576 with 1 Axes>"
      ]
     },
     "metadata": {
      "needs_background": "light"
     },
     "output_type": "display_data"
    }
   ],
   "source": [
    "bigram_wordcloud = WordCloud(random_state = 21, colormap=\"tab20c\").generate_from_frequencies(pairs_freq)\n",
    "plt.figure(figsize = (9,8))\n",
    "plt.imshow(bigram_wordcloud,interpolation = 'bilinear')\n",
    "plt.axis(\"off\")\n",
    "plt.show()"
   ]
  },
  {
   "cell_type": "markdown",
   "id": "27b87370",
   "metadata": {},
   "source": [
    "### String endwith"
   ]
  },
  {
   "cell_type": "code",
   "execution_count": 32,
   "id": "f6d269c4",
   "metadata": {},
   "outputs": [],
   "source": [
    "vectorizer2 = CountVectorizer(analyzer='word', ngram_range=(2, 2), stop_words = final_stopword_list)\n",
    "X2 = vectorizer2.fit_transform(corpus1)\n",
    "tri_grams = vectorizer2.get_feature_names()"
   ]
  },
  {
   "cell_type": "code",
   "execution_count": 33,
   "id": "e58f2a1c",
   "metadata": {},
   "outputs": [
    {
     "name": "stdout",
     "output_type": "stream",
     "text": [
      "['ability trust', 'attitude trust', 'back trust', 'believe trust', 'blocks trust', 'box trust', 'build trust', 'building trust', 'builds trust', 'completely trust', 'cultivates trust', 'discussing trust', 'displaying trust', 'employee trust', 'environment trust', 'experience trust', 'feedback trust', 'feel trust', 'freedom trust', 'growth trust', 'honesty trust', 'including trust', 'involved trust', 'level trust', 'like trust', 'longer trust', 'mutual trust', 'resources trust', 'says trust', 'sense trust', 'someone trust', 'talk trust', 'tasks trust', 'though trust', 'ways trust']\n"
     ]
    }
   ],
   "source": [
    "# Checking surrounding words end with the string\n",
    "newlist = []\n",
    "for t in tri_grams:\n",
    "    if t.endswith('trust'):\n",
    "        newlist.append(t)\n",
    "        \n",
    "print(newlist)"
   ]
  },
  {
   "cell_type": "code",
   "execution_count": 34,
   "id": "3c5fa25a",
   "metadata": {},
   "outputs": [
    {
     "name": "stdout",
     "output_type": "stream",
     "text": [
      "['role 2021', 'role 21', 'role accomplish', 'role accomplished', 'role actively', 'role adjuster', 'role advance', 'role allowed', 'role always', 'role appropriate', 'role approves', 'role areas', 'role ask', 'role asks', 'role aspirations', 'role aspiring', 'role become', 'role becomes', 'role better', 'role beyond', 'role brian', 'role career', 'role challenges', 'role change', 'role changes', 'role choose', 'role claims', 'role coordinated', 'role created', 'role current', 'role demonstrate', 'role department', 'role depth', 'role difficult', 'role discuss', 'role discussed', 'role discussion', 'role discussions', 'role dont', 'role due', 'role easy', 'role encourages', 'role ensures', 'role ensuring', 'role entails', 'role etc', 'role even', 'role evolve', 'role example', 'role excels', 'role expected', 'role extremely', 'role fantastic', 'role far', 'role feel', 'role find', 'role first', 'role fostering', 'role future', 'role get', 'role getting', 'role goals', 'role group', 'role grown', 'role guidance', 'role hands', 'role help', 'role helped', 'role helpful', 'role helping', 'role home', 'role idp', 'role impactful', 'role important', 'role improvements', 'role initiative', 'role invested', 'role issues', 'role job', 'role keeps', 'role knows', 'role leader', 'role less', 'role like', 'role likes', 'role look', 'role lot', 'role many', 'role may', 'role mcu', 'role mike', 'role model', 'role month', 'role months', 'role motivating', 'role much', 'role naturally', 'role never', 'role new', 'role newer', 'role next', 'role offers', 'role often', 'role one', 'role ongoing', 'role open', 'role opportunities', 'role opportunity', 'role organization', 'role outlook', 'role overjoyed', 'role plan', 'role play', 'role played', 'role plays', 'role position', 'role possible', 'role potential', 'role potentially', 'role prepare', 'role present', 'role processes', 'role progress', 'role projects', 'role provide', 'role provides', 'role providing', 'role pursue', 'role pursuing', 'role push', 'role recognizes', 'role recognizing', 'role regards', 'role relationship', 'role reported', 'role responsibilities', 'role role', 'role roles', 'role seeking', 'role senior', 'role set', 'role shaping', 'role simply', 'role situation', 'role sometimes', 'role specific', 'role sponsor', 'role status', 'role stop', 'role successful', 'role suggested', 'role supports', 'role survey', 'role teach', 'role team', 'role thoughtfully', 'role throughout', 'role took', 'role tools', 'role towards', 'role training', 'role trying', 'role understanding', 'role vital', 'role walk', 'role want', 'role well', 'role whenever', 'role within', 'role working', 'role year', 'role yet', 'roles add', 'roles advance', 'roles allow', 'roles always', 'roles applications', 'roles attention', 'roles available', 'roles coaching', 'roles connections', 'roles currently', 'roles develop', 'roles difficult', 'roles direction', 'roles discusses', 'roles even', 'roles excels', 'roles experiences', 'roles expressed', 'roles feels', 'roles find', 'roles finds', 'roles furthering', 'roles grow', 'roles helped', 'roles helping', 'roles industry', 'roles lastly', 'roles leveraging', 'roles like', 'roles match', 'roles may', 'roles might', 'roles opportunities', 'roles order', 'roles organization', 'roles outside', 'roles part', 'roles positions', 'roles responsibilities', 'roles result', 'roles see', 'roles seek', 'roles seems', 'roles set', 'roles shares', 'roles skillsets', 'roles special', 'roles succeed', 'roles talked', 'roles therefore', 'roles throughout', 'roles today', 'roles transparent', 'roles two', 'roles value', 'roles want', 'roles way', 'roles well', 'roles within']\n"
     ]
    }
   ],
   "source": [
    "# start with certain word\n",
    "r = re.compile(\"role\")\n",
    "newlist = list(filter(r.match, tri_grams)) \n",
    "print(newlist)"
   ]
  },
  {
   "cell_type": "markdown",
   "id": "457a3321",
   "metadata": {},
   "source": [
    "### Search the original document containing the word"
   ]
  },
  {
   "cell_type": "code",
   "execution_count": 681,
   "id": "df62b41f",
   "metadata": {},
   "outputs": [
    {
     "name": "stdout",
     "output_type": "stream",
     "text": [
      "3                                                                                                                                                                                                                                                                                                                                                 Provide more feedback on the things I'm doing well and what needs improvement.\n",
      "1087                                                                                                                                                                                                                                                                                   I would consider my managers actions to be about as good as might possibly be done. There is not many methods to improve neqr-perfection.\n",
      "1707                                                                                                                                                     As indicated above I believe our manager is a good manager and very knowledgeable, as well as does supporting us to be successful. Sometimes though the communication does not come across that way, so if he can improve the communication he will be a great manager.\n",
      "2349                                                                                                                                                                                                                                                                                                                                                                           there is room for improvement on time management.\n",
      "2998                                                                                                                                                                                                                                                                                                                                                                                         Offer areas for further improvement\n",
      "3451                                                                                                                                                                                                     Provide feedback on what I do well, what I should improve upon and give direction on where my skills would be best suited within the organization. Also, provide opportunities to hone or strengthen development areas.\n",
      "3898                                                                                                                                                                            My only reason for checking mostly agree on the last question is that I am not planning on pursuing future opportunities and other challenges, at this phase of my career. Development is more related to continuing to improve at the job I do.\n",
      "4238                                                                                                                                                                                                                                                                                                                                   Provide more clear goals as to what he would like each adjuster to improve at or work on.\n",
      "4318                                                                                                                                                                                                                                                                                                                                                                                           I can't think of any improvements\n",
      "4434    I would like to at least be asked about my career aspirations as that shows that he is interested in my overall professional development. It would be helpful if he would actively look for and provide opportunities for me to advance my career and also to move into a better/higher role. Rather than just telling me about the areas I could improve in, actually give me ideas and suggestions for how to improve.\n",
      "5745                                                                                                                                                                                                                                                                                                           i do not have any comments on improvement at the moment as i have just started reporting to her a few months ago.\n",
      "Name: What could your manager do differently to better support your development?, dtype: object\n",
      "11\n"
     ]
    }
   ],
   "source": [
    "pd.set_option('display.max_colwidth', None)\n",
    "filter_values =  corpus5[corpus5.str.contains('improve')==True]\n",
    "print(filter_values)\n",
    "print(len(filter_values))"
   ]
  },
  {
   "cell_type": "code",
   "execution_count": 683,
   "id": "a4865bf2",
   "metadata": {},
   "outputs": [
    {
     "name": "stdout",
     "output_type": "stream",
     "text": [
      "3                                                                                                                                                                                                                                                                                                                         Provide more feedback on the things I'm doing well and what needs improvement.\n",
      "70                                                                                                                                                                                                                                                                                               Help identify more training opportunities that would help develop my knowledge of my role even further.\n",
      "318                                                                                                                                                                                                                                                                                               Be more familiar with positions and how an employee may be a match. Take more interest in development.\n",
      "372                                                                                                                                                                                                                 We need to find time to have more meaningful discussions about career aspirations and development. Time has been difficult to allocate to this topic but hopefully will happen soon.\n",
      "497                                                                                                                                                                                                                                                         Provide more real time insight on specific challenges and/or positives to help me calibrate my own performance and course correct as needed.\n",
      "                                                                                                                                                                                                      ...                                                                                                                                                                                               \n",
      "6425                                                                                                                                                                                                                                                                                                                                                        Nothing more than she is currently providing\n",
      "6468                                                                                                                                                                                                                                                                                                 there is nothing more my manager can do to support my development because she is already doing this\n",
      "6570                                          Take the time to have more individual conversations really listen to some of the issues and maybe lay out a development plan to guide her team. Also when an opportunity that is in align with the individual's future goals come up I think she should have a conversation and maybe encourage them or ask if this would be something your interested in.\n",
      "6698                                                                                                                                                                                                                                                                                                   My manager could provide more detailed direction, such as which courses would be most beneficial.\n",
      "6757    I personally need more information on what skills I may already have that I need to develop more and what skills I need to gain to be able to be successful in the future positions I am looking to move to. I am not applying for any other positions because I do not feel confident I know enough about the business and what would be expected of me in the position to be successful at it.\n",
      "Name: What could your manager do differently to better support your development?, Length: 74, dtype: object\n",
      "74\n"
     ]
    }
   ],
   "source": [
    "pd.set_option('display.max_colwidth', None)\n",
    "filter_values =  corpus5[corpus5.str.contains('more')==True]\n",
    "print(filter_values)\n",
    "print(len(filter_values))"
   ]
  },
  {
   "cell_type": "code",
   "execution_count": 71,
   "id": "ee90a9b9",
   "metadata": {},
   "outputs": [
    {
     "name": "stdout",
     "output_type": "stream",
     "text": [
      "2447                                                                                                                                                                                                                                                                                                                                                                                                                                                                                                                                                                                                                                                              Empowering and trusting me to do my job and execute.\n",
      "2672                                                                                                                                                                                         Katelyn always seems to be able to find things that might be something I would have an interest in. She takes the time to know me, what I enjoy and what I excel at and what I want to develop in myself. She then takes that knowledge and finds projects or even possible opportunities that line up with those things. She creates a very trusting relationship where I know that my development matters to her. Also, she always asks if there is anything more she could be doing, if I need anything else from her.\n",
      "3632                                                                                                                                                                                                                                                                                                                                                                         My manager has continuous discussions with me pertaining to both regular day to day work and also long term. He is an active listener and empowers me to take decisions. By trusting me with major deliveries, he gives me the confidence to do the best and I couldn't ask for more. Its been an absolute pleasure working in this team.\n",
      "4627    Melissa and I have regularly scheduled one-on-one meetings, where she always makes sure that we discuss developmental opportunities...whether it's company-wide opportunities such as the WIN initiatives; LinkedIn BA training opportunities; Global Leadership Summit session opportunities, etc., or opportunities geared more personally toward myself, such as encouraging me to participate and represent the team in special projects; trusting me to complete strategic monthly team reports; mentioning me and sparking my interest in upcoming opportunities. Also, during the performance and development cycles, Melissa always makes note of learning opportunities to help me enhance my skills.\n",
      "5267                                                                                                                                                                                                                                                                                                                                                                                                                                                                                                                                                                                                                                                               trusting me to ask when I have questions or topics.\n",
      "5349                                                                                                                                                                                                                                                                                                                                                                                                                                                                                                                                               My manager gives me the freedom with every project to manage the workload along with trusting my ability to do what is needed to successfully deliver that project.\n",
      "5487                                                                                                                                                                                                                       He is forward thinking and ties our work to the overall business results. Even though we are not market facing, he still encourages us by sharing how we, as a team, influence the success of the company as a whole. He also is supportive of his team and enables autonomy of work by being available when needed and trusting us to meet our deadlines and produce quality work without micromanaging our day-to-day. I appreciate the structure and cadence of our one-on-ones as well.\n",
      "5972                                                                                                                                                                                                                                                                                                                                                                                                                                                                                                 Understands my strengths and weaknesses and uses that to help advance my knowledge base. One key driver is that my manager is very approachable/trusting and takes pride in supporting my growth and career path.\n",
      "6307                                                                                                                                                                                                                                                                                                                                                                                                                                                                                                                                                                                                                            Communication, direction, but also hands off and trusting. Best manager I've ever had.\n",
      "6338                                                                                                                                                                                                                                                                                                                                                                                                                                                                                                                                                                                  My manager and I have a trusting relationship. i appreciate the autonomy I have and his confidence to allow me to do a good job.\n",
      "Name: What does your manager excel at with regard to supporting your development?, dtype: object\n",
      "10\n"
     ]
    }
   ],
   "source": [
    "pd.set_option('display.max_colwidth', None)\n",
    "filter_values =  corpus1[corpus1.str.contains('trusting')==True]\n",
    "print(filter_values)\n",
    "print(len(filter_values))"
   ]
  },
  {
   "cell_type": "markdown",
   "id": "283ccc3f",
   "metadata": {},
   "source": [
    "## Classification model"
   ]
  },
  {
   "cell_type": "code",
   "execution_count": 38,
   "id": "2ba6c5d1",
   "metadata": {},
   "outputs": [],
   "source": [
    "from sklearn.datasets import fetch_20newsgroups\n",
    "from sklearn.decomposition import TruncatedSVD\n",
    "from sklearn.feature_extraction.text import TfidfVectorizer\n",
    "from sklearn.feature_extraction.text import HashingVectorizer\n",
    "from sklearn.feature_extraction.text import TfidfTransformer\n",
    "from sklearn.pipeline import make_pipeline\n",
    "from sklearn.preprocessing import Normalizer\n",
    "from sklearn import metrics\n",
    "\n",
    "from sklearn.cluster import KMeans, MiniBatchKMeans\n",
    "\n",
    "import logging\n",
    "from optparse import OptionParser\n",
    "import sys\n",
    "from time import time\n",
    "\n",
    "import numpy as np"
   ]
  },
  {
   "cell_type": "code",
   "execution_count": 39,
   "id": "2d5786cd",
   "metadata": {},
   "outputs": [
    {
     "name": "stdout",
     "output_type": "stream",
     "text": [
      "Automatically created module for IPython interactive environment\n",
      "Usage: ipykernel_launcher.py [options]\n",
      "\n",
      "Options:\n",
      "  -h, --help            show this help message and exit\n",
      "  --lsa=N_COMPONENTS    Preprocess documents with latent semantic analysis.\n",
      "  --no-minibatch        Use ordinary k-means algorithm (in batch mode).\n",
      "  --no-idf              Disable Inverse Document Frequency feature weighting.\n",
      "  --use-hashing         Use a hashing feature vectorizer\n",
      "  --n-features=N_FEATURES\n",
      "                        Maximum number of features (dimensions) to extract\n",
      "                        from text.\n",
      "  --verbose             Print progress reports inside k-means algorithm.\n"
     ]
    }
   ],
   "source": [
    "# Display progress logs on stdout\n",
    "logging.basicConfig(level=logging.INFO,\n",
    "                    format='%(asctime)s %(levelname)s %(message)s')\n",
    "\n",
    "# parse commandline arguments\n",
    "op = OptionParser()\n",
    "op.add_option(\"--lsa\",\n",
    "              dest=\"n_components\", type=\"int\",\n",
    "              help=\"Preprocess documents with latent semantic analysis.\")\n",
    "op.add_option(\"--no-minibatch\",\n",
    "              action=\"store_false\", dest=\"minibatch\", default=True,\n",
    "              help=\"Use ordinary k-means algorithm (in batch mode).\")\n",
    "op.add_option(\"--no-idf\",\n",
    "              action=\"store_false\", dest=\"use_idf\", default=True,\n",
    "              help=\"Disable Inverse Document Frequency feature weighting.\")\n",
    "op.add_option(\"--use-hashing\",\n",
    "              action=\"store_true\", default=False,\n",
    "              help=\"Use a hashing feature vectorizer\")\n",
    "op.add_option(\"--n-features\", type=int, default=10000,\n",
    "              help=\"Maximum number of features (dimensions)\"\n",
    "                   \" to extract from text.\")\n",
    "op.add_option(\"--verbose\",\n",
    "              action=\"store_true\", dest=\"verbose\", default=False,\n",
    "              help=\"Print progress reports inside k-means algorithm.\")\n",
    "\n",
    "print(__doc__)\n",
    "op.print_help()\n",
    "\n",
    "def is_interactive():\n",
    "    return not hasattr(sys.modules['__main__'], '__file__')\n",
    "\n",
    "\n",
    "# work-around for Jupyter notebook and IPython console\n",
    "argv = [] if is_interactive() else sys.argv[1:]\n",
    "(opts, args) = op.parse_args(argv)\n",
    "if len(args) > 0:\n",
    "    op.error(\"this script takes no arguments.\")\n",
    "    sys.exit(1)\n"
   ]
  },
  {
   "cell_type": "code",
   "execution_count": 40,
   "id": "630b60e5",
   "metadata": {},
   "outputs": [
    {
     "name": "stdout",
     "output_type": "stream",
     "text": [
      "done in 0.082361s\n",
      "n_samples: 4645, n_features: 2407\n",
      "\n"
     ]
    }
   ],
   "source": [
    "\n",
    "\n",
    "t0 = time()\n",
    "if opts.use_hashing:\n",
    "    if opts.use_idf:\n",
    "        # Perform an IDF normalization on the output of HashingVectorizer\n",
    "        hasher = HashingVectorizer(n_features=opts.n_features,\n",
    "                                   stop_words=final_stopword_list, alternate_sign=False,\n",
    "                                   norm=None)\n",
    "        vectorizer = make_pipeline(hasher, TfidfTransformer())\n",
    "    else:\n",
    "        vectorizer = HashingVectorizer(n_features=opts.n_features,\n",
    "                                       stop_words=final_stopword_list,\n",
    "                                       alternate_sign=False, norm='l2')\n",
    "else:\n",
    "    vectorizer = TfidfVectorizer(max_df=0.5, max_features=opts.n_features,\n",
    "                                 min_df=2, stop_words=final_stopword_list,\n",
    "                                 use_idf=opts.use_idf)\n",
    "X = vectorizer.fit_transform(corpus1)\n",
    "\n",
    "print(\"done in %fs\" % (time() - t0))\n",
    "print(\"n_samples: %d, n_features: %d\" % X.shape)\n",
    "print()\n",
    "\n",
    "if opts.n_components:\n",
    "    print(\"Performing dimensionality reduction using LSA\")\n",
    "    t0 = time()\n",
    "    # Vectorizer results are normalized, which makes KMeans behave as\n",
    "    # spherical k-means for better results. Since LSA/SVD results are\n",
    "    # not normalized, we have to redo the normalization.\n",
    "    svd = TruncatedSVD(opts.n_components)\n",
    "    normalizer = Normalizer(copy=False)\n",
    "    lsa = make_pipeline(svd, normalizer)\n",
    "\n",
    "    X = lsa.fit_transform(X)\n",
    "\n",
    "    print(\"done in %fs\" % (time() - t0))\n",
    "\n",
    "    explained_variance = svd.explained_variance_ratio_.sum()\n",
    "    print(\"Explained variance of the SVD step: {}%\".format(\n",
    "        int(explained_variance * 100)))\n",
    "\n",
    "    print()\n",
    "\n"
   ]
  },
  {
   "cell_type": "code",
   "execution_count": 43,
   "id": "c65f7315",
   "metadata": {},
   "outputs": [
    {
     "name": "stdout",
     "output_type": "stream",
     "text": [
      "Clustering sparse data with MiniBatchKMeans(batch_size=1000, init_size=1000, n_clusters=6, n_init=1,\n",
      "                verbose=False)\n",
      "done in 0.097s\n",
      "\n",
      "Silhouette Coefficient: 0.009\n",
      "\n"
     ]
    }
   ],
   "source": [
    "if opts.minibatch:\n",
    "    km = MiniBatchKMeans(n_clusters=true_k, init='k-means++', n_init=1,\n",
    "                         init_size=1000, batch_size=1000, verbose=opts.verbose)\n",
    "else:\n",
    "    km = KMeans(n_clusters=true_k, init='k-means++', max_iter=100, n_init=1,\n",
    "                verbose=opts.verbose)\n",
    "\n",
    "print(\"Clustering sparse data with %s\" % km)\n",
    "t0 = time()\n",
    "km.fit(X)\n",
    "print(\"done in %0.3fs\" % (time() - t0))\n",
    "print()\n",
    "\n",
    "print(\"Silhouette Coefficient: %0.3f\"\n",
    "      % metrics.silhouette_score(X, km.labels_, sample_size=1000))\n",
    "\n",
    "print()"
   ]
  },
  {
   "cell_type": "code",
   "execution_count": 44,
   "id": "af512ac8",
   "metadata": {},
   "outputs": [],
   "source": [
    "true_k = 6"
   ]
  },
  {
   "cell_type": "code",
   "execution_count": 45,
   "id": "026125db",
   "metadata": {},
   "outputs": [
    {
     "name": "stdout",
     "output_type": "stream",
     "text": [
      "Top terms per cluster:\n",
      "Cluster 0: career aspirations feedback goals discussions open providing understands direction future\n",
      "Cluster 1: always available questions open discuss discussions one willing answer help\n",
      "Cluster 2: help job us team always know well willing get opportunities\n",
      "Cluster 3: new supports opportunities ideas role projects learn team opportunity learning\n",
      "Cluster 4: opportunities provides goals feedback providing areas growth develop skills future\n",
      "Cluster 5: communication open listens listening encourages future helps role training understanding\n"
     ]
    }
   ],
   "source": [
    "if not opts.use_hashing:\n",
    "    print(\"Top terms per cluster:\")\n",
    "\n",
    "    if opts.n_components:\n",
    "        original_space_centroids = svd.inverse_transform(km.cluster_centers_)\n",
    "        order_centroids = original_space_centroids.argsort()[:, ::-1]\n",
    "    else:\n",
    "        order_centroids = km.cluster_centers_.argsort()[:, ::-1]\n",
    "\n",
    "    terms = vectorizer.get_feature_names()\n",
    "    for i in range(true_k):\n",
    "        print(\"Cluster %d:\" % i, end='')\n",
    "        for ind in order_centroids[i, :10]:\n",
    "            print(' %s' % terms[ind], end='')\n",
    "        print()"
   ]
  },
  {
   "cell_type": "code",
   "execution_count": 46,
   "id": "453a138e",
   "metadata": {},
   "outputs": [
    {
     "data": {
      "text/plain": [
       "Counter({5: 2053, 0: 410, 4: 826, 1: 481, 2: 553, 3: 322})"
      ]
     },
     "execution_count": 46,
     "metadata": {},
     "output_type": "execute_result"
    }
   ],
   "source": [
    "labels = km.predict(X)\n",
    "freq =Counter(labels)\n",
    "freq"
   ]
  },
  {
   "cell_type": "code",
   "execution_count": 47,
   "id": "863a212f",
   "metadata": {},
   "outputs": [],
   "source": [
    "survey['Cluster Label1'] = km.predict(X)\n"
   ]
  },
  {
   "cell_type": "code",
   "execution_count": 48,
   "id": "f047e618",
   "metadata": {},
   "outputs": [],
   "source": [
    "survey.to_csv('survey with label.csv')"
   ]
  },
  {
   "cell_type": "code",
   "execution_count": 49,
   "id": "bd9b52b7",
   "metadata": {},
   "outputs": [
    {
     "name": "stdout",
     "output_type": "stream",
     "text": [
      "done in 0.030137s\n",
      "n_samples: 4645, n_features: 619\n",
      "\n"
     ]
    }
   ],
   "source": [
    "\n",
    "t0 = time()\n",
    "if opts.use_hashing:\n",
    "    if opts.use_idf:\n",
    "        # Perform an IDF normalization on the output of HashingVectorizer\n",
    "        hasher = HashingVectorizer(n_features=opts.n_features,\n",
    "                                   stop_words=final_stopword_list, alternate_sign=False,\n",
    "                                   norm=None)\n",
    "        vectorizer = make_pipeline(hasher, TfidfTransformer())\n",
    "    else:\n",
    "        vectorizer = HashingVectorizer(n_features=opts.n_features,\n",
    "                                       stop_words=final_stopword_list,\n",
    "                                       alternate_sign=False, norm='l2')\n",
    "else:\n",
    "    vectorizer = TfidfVectorizer(max_df=0.5, max_features=opts.n_features,\n",
    "                                 min_df=2, stop_words=final_stopword_list,\n",
    "                                 use_idf=opts.use_idf)\n",
    "X = vectorizer.fit_transform(corpus3)\n",
    "\n",
    "print(\"done in %fs\" % (time() - t0))\n",
    "print(\"n_samples: %d, n_features: %d\" % X.shape)\n",
    "print()\n",
    "\n",
    "if opts.n_components:\n",
    "    print(\"Performing dimensionality reduction using LSA\")\n",
    "    t0 = time()\n",
    "    # Vectorizer results are normalized, which makes KMeans behave as\n",
    "    # spherical k-means for better results. Since LSA/SVD results are\n",
    "    # not normalized, we have to redo the normalization.\n",
    "    svd = TruncatedSVD(opts.n_components)\n",
    "    normalizer = Normalizer(copy=False)\n",
    "    lsa = make_pipeline(svd, normalizer)\n",
    "\n",
    "    X = lsa.fit_transform(X)\n",
    "\n",
    "    print(\"done in %fs\" % (time() - t0))\n",
    "\n",
    "    explained_variance = svd.explained_variance_ratio_.sum()\n",
    "    print(\"Explained variance of the SVD step: {}%\".format(\n",
    "        int(explained_variance * 100)))\n",
    "\n",
    "    print()\n",
    "\n"
   ]
  },
  {
   "cell_type": "code",
   "execution_count": 50,
   "id": "3cba2ae0",
   "metadata": {},
   "outputs": [
    {
     "name": "stdout",
     "output_type": "stream",
     "text": [
      "Clustering sparse data with MiniBatchKMeans(batch_size=1000, init_size=1000, n_clusters=6, n_init=1,\n",
      "                verbose=False)\n",
      "done in 0.078s\n",
      "\n"
     ]
    }
   ],
   "source": [
    "if opts.minibatch:\n",
    "    km = MiniBatchKMeans(n_clusters=true_k, init='k-means++', n_init=1,\n",
    "                         init_size=1000, batch_size=1000, verbose=opts.verbose)\n",
    "else:\n",
    "    km = KMeans(n_clusters=true_k, init='k-means++', max_iter=100, n_init=1,\n",
    "                verbose=opts.verbose)\n",
    "\n",
    "print(\"Clustering sparse data with %s\" % km)\n",
    "t0 = time()\n",
    "km.fit(X)\n",
    "print(\"done in %0.3fs\" % (time() - t0))\n",
    "print()"
   ]
  },
  {
   "cell_type": "code",
   "execution_count": 51,
   "id": "266a13df",
   "metadata": {},
   "outputs": [
    {
     "name": "stdout",
     "output_type": "stream",
     "text": [
      "Top terms per cluster:\n",
      "Cluster 0: team people like us listen feel better comment help know\n",
      "Cluster 1: nan yes fear field fewer felt feels feeling feel feedback\n",
      "Cluster 2: team receiving consistently across member information manage hard approach different\n",
      "Cluster 3: yes feedback find field fewer felt feels feeling feel fear\n",
      "Cluster 4: yes feedback find field fewer felt feels feeling feel fear\n",
      "Cluster 5: yes feedback find field fewer felt feels feeling feel fear\n"
     ]
    }
   ],
   "source": [
    "if not opts.use_hashing:\n",
    "    print(\"Top terms per cluster:\")\n",
    "\n",
    "    if opts.n_components:\n",
    "        original_space_centroids = svd.inverse_transform(km.cluster_centers_)\n",
    "        order_centroids = original_space_centroids.argsort()[:, ::-1]\n",
    "    else:\n",
    "        order_centroids = km.cluster_centers_.argsort()[:, ::-1]\n",
    "\n",
    "    terms = vectorizer.get_feature_names()\n",
    "    for i in range(true_k):\n",
    "        print(\"Cluster %d:\" % i, end='')\n",
    "        for ind in order_centroids[i, :10]:\n",
    "            print(' %s' % terms[ind], end='')\n",
    "        print()"
   ]
  },
  {
   "cell_type": "code",
   "execution_count": 52,
   "id": "6f4195b7",
   "metadata": {},
   "outputs": [
    {
     "data": {
      "text/plain": [
       "Counter({3: 4440, 0: 203, 1: 2})"
      ]
     },
     "execution_count": 52,
     "metadata": {},
     "output_type": "execute_result"
    }
   ],
   "source": [
    "labels = km.predict(X)\n",
    "freq =Counter(labels)\n",
    "freq"
   ]
  }
 ],
 "metadata": {
  "kernelspec": {
   "display_name": "Python 3",
   "language": "python",
   "name": "python3"
  },
  "language_info": {
   "codemirror_mode": {
    "name": "ipython",
    "version": 3
   },
   "file_extension": ".py",
   "mimetype": "text/x-python",
   "name": "python",
   "nbconvert_exporter": "python",
   "pygments_lexer": "ipython3",
   "version": "3.6.4"
  }
 },
 "nbformat": 4,
 "nbformat_minor": 5
}
